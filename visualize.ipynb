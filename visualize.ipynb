{
 "cells": [
  {
   "cell_type": "code",
   "execution_count": null,
   "metadata": {},
   "outputs": [
    {
     "name": "stderr",
     "output_type": "stream",
     "text": [
      "C:\\Users\\hokha\\AppData\\Local\\Temp\\ipykernel_3400\\2397509653.py:20: FutureWarning: You are using `torch.load` with `weights_only=False` (the current default value), which uses the default pickle module implicitly. It is possible to construct malicious pickle data which will execute arbitrary code during unpickling (See https://github.com/pytorch/pytorch/blob/main/SECURITY.md#untrusted-models for more details). In a future release, the default value for `weights_only` will be flipped to `True`. This limits the functions that could be executed during unpickling. Arbitrary objects will no longer be allowed to be loaded via this mode unless they are explicitly allowlisted by the user via `torch.serialization.add_safe_globals`. We recommend you start setting `weights_only=True` for any use case where you don't have full control of the loaded file. Please open an issue on GitHub for any issues related to this experimental feature.\n",
      "  model.load_state_dict(torch.load('trained_model/mnist_cnn_best.pth'))\n",
      "C:\\Users\\hokha\\AppData\\Local\\Temp\\ipykernel_3400\\2397509653.py:74: FutureWarning: You are using `torch.load` with `weights_only=False` (the current default value), which uses the default pickle module implicitly. It is possible to construct malicious pickle data which will execute arbitrary code during unpickling (See https://github.com/pytorch/pytorch/blob/main/SECURITY.md#untrusted-models for more details). In a future release, the default value for `weights_only` will be flipped to `True`. This limits the functions that could be executed during unpickling. Arbitrary objects will no longer be allowed to be loaded via this mode unless they are explicitly allowlisted by the user via `torch.serialization.add_safe_globals`. We recommend you start setting `weights_only=True` for any use case where you don't have full control of the loaded file. Please open an issue on GitHub for any issues related to this experimental feature.\n",
      "  dqn.load_state_dict(torch.load('model_0_trrenvong_2.pth'))\n"
     ]
    },
    {
     "data": {
      "text/plain": [
       "DQN_Conv(\n",
       "  (classifier): Sequential(\n",
       "    (0): Conv2d(2, 32, kernel_size=(3, 3), stride=(1, 1))\n",
       "    (1): Tanh()\n",
       "    (2): Conv2d(32, 64, kernel_size=(3, 3), stride=(1, 1))\n",
       "    (3): Tanh()\n",
       "    (4): MaxPool2d(kernel_size=2, stride=2, padding=0, dilation=1, ceil_mode=False)\n",
       "    (5): Dropout(p=0.25, inplace=False)\n",
       "    (6): Flatten(start_dim=1, end_dim=-1)\n",
       "    (7): Linear(in_features=9216, out_features=1024, bias=True)\n",
       "    (8): Tanh()\n",
       "    (9): Dropout(p=0.5, inplace=False)\n",
       "    (10): Linear(in_features=1024, out_features=128, bias=True)\n",
       "    (11): Tanh()\n",
       "    (12): Dropout(p=0.5, inplace=False)\n",
       "    (13): Linear(in_features=128, out_features=196, bias=True)\n",
       "  )\n",
       ")"
      ]
     },
     "execution_count": 27,
     "metadata": {},
     "output_type": "execute_result"
    }
   ],
   "source": [
    "import torch\n",
    "import torch.nn as nn\n",
    "import torch.optim as optim\n",
    "import torchvision.transforms as transforms\n",
    "import torchvision.datasets as datasets\n",
    "from torch.utils.data import DataLoader\n",
    "from dataset import get_dataset\n",
    "import torchvision\n",
    "import numpy as np\n",
    "from arch import DQN_Conv\n",
    "\n",
    "# Tải mô hình đơn giản (ví dụ: ResNet)\n",
    "from arch import CONV_MNIST\n",
    "\n",
    "# 1. Cấu hình thiết bị\n",
    "device = torch.device(\"cuda\" if torch.cuda.is_available() else \"cpu\")\n",
    "\n",
    "# 2. Tải mô hình đã huấn luyện trước\n",
    "model = CONV_MNIST()\n",
    "model.load_state_dict(torch.load('trained_model/mnist_cnn_best.pth'))\n",
    "\n",
    "model.eval().to(device)  # Đặt chế độ đánh giá (evaluation mode)\n",
    "\n",
    "# 3. Định nghĩa FGSM Attack\n",
    "def fgsm_attack(image, epsilon, gradient):\n",
    "    # Lấy dấu của gradient\n",
    "    sign_gradient = gradient.sign()\n",
    "\n",
    "    new_sign = torch.zeros(28, 28)\n",
    "    for i in range(28):\n",
    "        for j in range(28):\n",
    "            x, y = i//2, j//2\n",
    "            new_sign[i][j] = torch.mean(sign_gradient[0][0][x*2:x*2+2, y*2:y*2+2])\n",
    "\n",
    "    new_sign = new_sign.sign()\n",
    "    \n",
    "    # sign_gradient[sign_gradient] = 0\n",
    "    # Tạo mẫu tấn công\n",
    "    perturbed_image = image + epsilon * sign_gradient\n",
    "    # Giới hạn giá trị pixel [0, 1]\n",
    "    perturbed_image = torch.clamp(perturbed_image, 0, 1)\n",
    "\n",
    "    return perturbed_image, sign_gradient\n",
    "\n",
    "def fgsm_attack_2(image, epsilon, mask):\n",
    "    # 14*14 -> 28*28\n",
    "    fit_mask = torch.zeros(image.shape)\n",
    "    for i in range(14):\n",
    "        for j in range(14):\n",
    "            fit_mask[0][0][i*2][j*2] = mask[i][j]\n",
    "            fit_mask[0][0][i*2+1][j*2] = mask[i][j]\n",
    "            fit_mask[0][0][i*2][j*2+1] = mask[i][j]\n",
    "            fit_mask[0][0][i*2+1][j*2+1] = mask[i][j]\n",
    "    # Tạo mẫu nhiễu\n",
    "    perturbed_image = image + epsilon * fit_mask.to(device)\n",
    "    # Giới hạn giá trị pixel [0, 1]\n",
    "    perturbed_image = torch.clamp(perturbed_image, 0, 1)\n",
    "    return perturbed_image\n",
    "\n",
    "# 4. Chuẩn bị dữ liệu\n",
    "transform = transforms.Compose([\n",
    "    transforms.Resize((224, 224)),\n",
    "    transforms.ToTensor()\n",
    "])\n",
    "dataset = get_dataset('mnist', split='train')\n",
    "dataloader = DataLoader(dataset, batch_size=1, shuffle=True)\n",
    "\n",
    "# 5. Tấn công mẫu đầu tiên\n",
    "epsilon = 0.2  # Mức độ nhiễu\n",
    "criterion = nn.CrossEntropyLoss()\n",
    "\n",
    "\n",
    "dqn = DQN_Conv(28*28, 14*14)\n",
    "dqn.load_state_dict(torch.load('model_0_trrenvong_2.pth'))\n",
    "dqn.eval().to(device)\n"
   ]
  },
  {
   "cell_type": "code",
   "execution_count": 28,
   "metadata": {},
   "outputs": [
    {
     "name": "stderr",
     "output_type": "stream",
     "text": [
      "  0%|          | 2/60000 [00:00<2:17:53,  7.25it/s]"
     ]
    },
    {
     "name": "stdout",
     "output_type": "stream",
     "text": [
      "Accuracy: 1.0\n",
      "Accuracy: 1.0\n"
     ]
    },
    {
     "name": "stderr",
     "output_type": "stream",
     "text": [
      "  0%|          | 4/60000 [00:00<2:23:23,  6.97it/s]"
     ]
    },
    {
     "name": "stdout",
     "output_type": "stream",
     "text": [
      "Accuracy: 1.0\n",
      "Accuracy: 1.0\n"
     ]
    },
    {
     "name": "stderr",
     "output_type": "stream",
     "text": [
      "  0%|          | 6/60000 [00:00<2:36:15,  6.40it/s]"
     ]
    },
    {
     "name": "stdout",
     "output_type": "stream",
     "text": [
      "Accuracy: 0.8\n",
      "Accuracy: 0.6666666666666666\n"
     ]
    },
    {
     "name": "stderr",
     "output_type": "stream",
     "text": [
      "  0%|          | 8/60000 [00:01<2:49:13,  5.91it/s]"
     ]
    },
    {
     "name": "stdout",
     "output_type": "stream",
     "text": [
      "Accuracy: 0.7142857142857143\n",
      "Accuracy: 0.625\n"
     ]
    },
    {
     "name": "stderr",
     "output_type": "stream",
     "text": [
      "  0%|          | 10/60000 [00:01<2:50:27,  5.87it/s]"
     ]
    },
    {
     "name": "stdout",
     "output_type": "stream",
     "text": [
      "Accuracy: 0.6666666666666666\n",
      "Accuracy: 0.7\n"
     ]
    },
    {
     "name": "stderr",
     "output_type": "stream",
     "text": [
      "  0%|          | 12/60000 [00:01<2:35:49,  6.42it/s]"
     ]
    },
    {
     "name": "stdout",
     "output_type": "stream",
     "text": [
      "Accuracy: 0.6363636363636364\n",
      "Accuracy: 0.6666666666666666\n"
     ]
    },
    {
     "name": "stderr",
     "output_type": "stream",
     "text": [
      "  0%|          | 14/60000 [00:02<2:25:14,  6.88it/s]"
     ]
    },
    {
     "name": "stdout",
     "output_type": "stream",
     "text": [
      "Accuracy: 0.6923076923076923\n",
      "Accuracy: 0.6428571428571429\n"
     ]
    },
    {
     "name": "stderr",
     "output_type": "stream",
     "text": [
      "  0%|          | 16/60000 [00:02<2:19:15,  7.18it/s]"
     ]
    },
    {
     "name": "stdout",
     "output_type": "stream",
     "text": [
      "Accuracy: 0.6\n",
      "Accuracy: 0.625\n"
     ]
    },
    {
     "name": "stderr",
     "output_type": "stream",
     "text": [
      "  0%|          | 18/60000 [00:02<2:14:34,  7.43it/s]"
     ]
    },
    {
     "name": "stdout",
     "output_type": "stream",
     "text": [
      "Accuracy: 0.5882352941176471\n",
      "Accuracy: 0.6111111111111112\n"
     ]
    },
    {
     "name": "stderr",
     "output_type": "stream",
     "text": [
      "  0%|          | 19/60000 [00:02<2:15:46,  7.36it/s]"
     ]
    },
    {
     "name": "stdout",
     "output_type": "stream",
     "text": [
      "Accuracy: 0.631578947368421\n"
     ]
    },
    {
     "name": "stderr",
     "output_type": "stream",
     "text": [
      "  0%|          | 21/60000 [00:03<2:32:46,  6.54it/s]"
     ]
    },
    {
     "name": "stdout",
     "output_type": "stream",
     "text": [
      "Accuracy: 0.6\n",
      "Accuracy: 0.6190476190476191\n"
     ]
    },
    {
     "name": "stderr",
     "output_type": "stream",
     "text": [
      "  0%|          | 22/60000 [00:03<2:47:05,  5.98it/s]"
     ]
    },
    {
     "name": "stdout",
     "output_type": "stream",
     "text": [
      "Accuracy: 0.5909090909090909\n"
     ]
    },
    {
     "name": "stderr",
     "output_type": "stream",
     "text": [
      "  0%|          | 24/60000 [00:03<2:45:11,  6.05it/s]"
     ]
    },
    {
     "name": "stdout",
     "output_type": "stream",
     "text": [
      "Accuracy: 0.5652173913043478\n",
      "Accuracy: 0.5416666666666666\n"
     ]
    },
    {
     "name": "stderr",
     "output_type": "stream",
     "text": [
      "  0%|          | 25/60000 [00:03<2:39:35,  6.26it/s]"
     ]
    },
    {
     "name": "stdout",
     "output_type": "stream",
     "text": [
      "Accuracy: 0.56\n"
     ]
    },
    {
     "name": "stderr",
     "output_type": "stream",
     "text": [
      "  0%|          | 27/60000 [00:04<2:42:30,  6.15it/s]"
     ]
    },
    {
     "name": "stdout",
     "output_type": "stream",
     "text": [
      "Accuracy: 0.5384615384615384\n",
      "Accuracy: 0.5185185185185185\n"
     ]
    },
    {
     "name": "stderr",
     "output_type": "stream",
     "text": [
      "  0%|          | 29/60000 [00:04<2:27:38,  6.77it/s]"
     ]
    },
    {
     "name": "stdout",
     "output_type": "stream",
     "text": [
      "Accuracy: 0.5357142857142857\n",
      "Accuracy: 0.5172413793103449\n"
     ]
    },
    {
     "name": "stderr",
     "output_type": "stream",
     "text": [
      "  0%|          | 31/60000 [00:04<2:19:56,  7.14it/s]"
     ]
    },
    {
     "name": "stdout",
     "output_type": "stream",
     "text": [
      "Accuracy: 0.5333333333333333\n",
      "Accuracy: 0.5483870967741935\n"
     ]
    },
    {
     "name": "stderr",
     "output_type": "stream",
     "text": [
      "  0%|          | 32/60000 [00:04<2:16:37,  7.32it/s]"
     ]
    },
    {
     "name": "stdout",
     "output_type": "stream",
     "text": [
      "Accuracy: 0.5625\n"
     ]
    },
    {
     "name": "stderr",
     "output_type": "stream",
     "text": [
      "  0%|          | 34/60000 [00:05<2:40:34,  6.22it/s]"
     ]
    },
    {
     "name": "stdout",
     "output_type": "stream",
     "text": [
      "Accuracy: 0.5757575757575758\n",
      "Accuracy: 0.5882352941176471\n"
     ]
    },
    {
     "name": "stderr",
     "output_type": "stream",
     "text": [
      "  0%|          | 36/60000 [00:05<2:25:42,  6.86it/s]"
     ]
    },
    {
     "name": "stdout",
     "output_type": "stream",
     "text": [
      "Accuracy: 0.6\n",
      "Accuracy: 0.5833333333333334\n"
     ]
    },
    {
     "name": "stderr",
     "output_type": "stream",
     "text": [
      "  0%|          | 38/60000 [00:05<2:28:45,  6.72it/s]"
     ]
    },
    {
     "name": "stdout",
     "output_type": "stream",
     "text": [
      "Accuracy: 0.5945945945945946\n",
      "Accuracy: 0.6052631578947368\n"
     ]
    },
    {
     "name": "stderr",
     "output_type": "stream",
     "text": [
      "  0%|          | 40/60000 [00:06<2:21:50,  7.05it/s]"
     ]
    },
    {
     "name": "stdout",
     "output_type": "stream",
     "text": [
      "Accuracy: 0.6153846153846154\n",
      "Accuracy: 0.625\n"
     ]
    },
    {
     "name": "stderr",
     "output_type": "stream",
     "text": [
      "  0%|          | 42/60000 [00:06<2:16:43,  7.31it/s]"
     ]
    },
    {
     "name": "stdout",
     "output_type": "stream",
     "text": [
      "Accuracy: 0.6097560975609756\n",
      "Accuracy: 0.6190476190476191\n"
     ]
    },
    {
     "name": "stderr",
     "output_type": "stream",
     "text": [
      "  0%|          | 44/60000 [00:06<2:16:16,  7.33it/s]"
     ]
    },
    {
     "name": "stdout",
     "output_type": "stream",
     "text": [
      "Accuracy: 0.6046511627906976\n",
      "Accuracy: 0.5909090909090909\n"
     ]
    },
    {
     "name": "stderr",
     "output_type": "stream",
     "text": [
      "  0%|          | 46/60000 [00:06<2:14:29,  7.43it/s]"
     ]
    },
    {
     "name": "stdout",
     "output_type": "stream",
     "text": [
      "Accuracy: 0.5777777777777777\n",
      "Accuracy: 0.5869565217391305\n"
     ]
    },
    {
     "name": "stderr",
     "output_type": "stream",
     "text": [
      "  0%|          | 47/60000 [00:07<2:32:06,  6.57it/s]"
     ]
    },
    {
     "name": "stdout",
     "output_type": "stream",
     "text": [
      "Accuracy: 0.5957446808510638\n"
     ]
    },
    {
     "name": "stderr",
     "output_type": "stream",
     "text": [
      "  0%|          | 49/60000 [00:07<2:41:19,  6.19it/s]"
     ]
    },
    {
     "name": "stdout",
     "output_type": "stream",
     "text": [
      "Accuracy: 0.5833333333333334\n",
      "Accuracy: 0.5918367346938775\n"
     ]
    },
    {
     "name": "stderr",
     "output_type": "stream",
     "text": [
      "  0%|          | 51/60000 [00:07<2:26:46,  6.81it/s]"
     ]
    },
    {
     "name": "stdout",
     "output_type": "stream",
     "text": [
      "Accuracy: 0.6\n",
      "Accuracy: 0.6078431372549019\n"
     ]
    },
    {
     "name": "stderr",
     "output_type": "stream",
     "text": [
      "  0%|          | 53/60000 [00:07<2:18:27,  7.22it/s]"
     ]
    },
    {
     "name": "stdout",
     "output_type": "stream",
     "text": [
      "Accuracy: 0.6153846153846154\n",
      "Accuracy: 0.6226415094339622\n"
     ]
    },
    {
     "name": "stderr",
     "output_type": "stream",
     "text": [
      "  0%|          | 55/60000 [00:08<2:20:32,  7.11it/s]"
     ]
    },
    {
     "name": "stdout",
     "output_type": "stream",
     "text": [
      "Accuracy: 0.6296296296296297\n",
      "Accuracy: 0.6181818181818182\n"
     ]
    },
    {
     "name": "stderr",
     "output_type": "stream",
     "text": [
      "  0%|          | 57/60000 [00:08<2:18:38,  7.21it/s]"
     ]
    },
    {
     "name": "stdout",
     "output_type": "stream",
     "text": [
      "Accuracy: 0.6071428571428571\n",
      "Accuracy: 0.5964912280701754\n"
     ]
    },
    {
     "name": "stderr",
     "output_type": "stream",
     "text": [
      "  0%|          | 58/60000 [00:08<2:18:07,  7.23it/s]"
     ]
    },
    {
     "name": "stdout",
     "output_type": "stream",
     "text": [
      "Accuracy: 0.5862068965517241\n",
      "Accuracy: 0.576271186440678\n"
     ]
    },
    {
     "name": "stderr",
     "output_type": "stream",
     "text": [
      "  0%|          | 61/60000 [00:09<2:24:32,  6.91it/s]"
     ]
    },
    {
     "name": "stdout",
     "output_type": "stream",
     "text": [
      "Accuracy: 0.5833333333333334\n",
      "Accuracy: 0.5737704918032787\n"
     ]
    },
    {
     "name": "stderr",
     "output_type": "stream",
     "text": [
      "  0%|          | 63/60000 [00:09<2:18:20,  7.22it/s]"
     ]
    },
    {
     "name": "stdout",
     "output_type": "stream",
     "text": [
      "Accuracy: 0.5806451612903226\n",
      "Accuracy: 0.5714285714285714\n"
     ]
    },
    {
     "name": "stderr",
     "output_type": "stream",
     "text": [
      "  0%|          | 65/60000 [00:09<2:15:10,  7.39it/s]"
     ]
    },
    {
     "name": "stdout",
     "output_type": "stream",
     "text": [
      "Accuracy: 0.578125\n",
      "Accuracy: 0.5692307692307692\n"
     ]
    },
    {
     "name": "stderr",
     "output_type": "stream",
     "text": [
      "  0%|          | 65/60000 [00:09<2:29:24,  6.69it/s]\n"
     ]
    },
    {
     "ename": "KeyboardInterrupt",
     "evalue": "",
     "output_type": "error",
     "traceback": [
      "\u001b[1;31m---------------------------------------------------------------------------\u001b[0m",
      "\u001b[1;31mKeyboardInterrupt\u001b[0m                         Traceback (most recent call last)",
      "Cell \u001b[1;32mIn[28], line 51\u001b[0m\n\u001b[0;32m     48\u001b[0m grid_img \u001b[38;5;241m=\u001b[39m np\u001b[38;5;241m.\u001b[39mwhere(grid_img \u001b[38;5;241m<\u001b[39m \u001b[38;5;241m0\u001b[39m, \u001b[38;5;241m0\u001b[39m, \u001b[38;5;241m1\u001b[39m)\n\u001b[0;32m     50\u001b[0m \u001b[38;5;66;03m# Tạo mẫu nhiễu\u001b[39;00m\n\u001b[1;32m---> 51\u001b[0m perturbed_image, sign_gradient \u001b[38;5;241m=\u001b[39m \u001b[43mfgsm_attack\u001b[49m\u001b[43m(\u001b[49m\u001b[43mimages\u001b[49m\u001b[43m,\u001b[49m\u001b[43m \u001b[49m\u001b[43mepsilon\u001b[49m\u001b[43m,\u001b[49m\u001b[43m \u001b[49m\u001b[43mgradient\u001b[49m\u001b[43m)\u001b[49m\n\u001b[0;32m     53\u001b[0m distance \u001b[38;5;241m=\u001b[39m torch\u001b[38;5;241m.\u001b[39mnorm(perturbed_image \u001b[38;5;241m-\u001b[39m images)\n\u001b[0;32m     54\u001b[0m \u001b[38;5;66;03m# print(f\"Distance FGSM: {distance}\")\u001b[39;00m\n\u001b[0;32m     55\u001b[0m \n\u001b[0;32m     56\u001b[0m \u001b[38;5;66;03m# Kiểm tra dự đoán trên mẫu bị tấn công\u001b[39;00m\n",
      "Cell \u001b[1;32mIn[27], line 33\u001b[0m, in \u001b[0;36mfgsm_attack\u001b[1;34m(image, epsilon, gradient)\u001b[0m\n\u001b[0;32m     31\u001b[0m     \u001b[38;5;28;01mfor\u001b[39;00m j \u001b[38;5;129;01min\u001b[39;00m \u001b[38;5;28mrange\u001b[39m(\u001b[38;5;241m28\u001b[39m):\n\u001b[0;32m     32\u001b[0m         x, y \u001b[38;5;241m=\u001b[39m i\u001b[38;5;241m/\u001b[39m\u001b[38;5;241m/\u001b[39m\u001b[38;5;241m2\u001b[39m, j\u001b[38;5;241m/\u001b[39m\u001b[38;5;241m/\u001b[39m\u001b[38;5;241m2\u001b[39m\n\u001b[1;32m---> 33\u001b[0m         new_sign[i][j] \u001b[38;5;241m=\u001b[39m torch\u001b[38;5;241m.\u001b[39mmean(sign_gradient[\u001b[38;5;241m0\u001b[39m][\u001b[38;5;241m0\u001b[39m][x\u001b[38;5;241m*\u001b[39m\u001b[38;5;241m2\u001b[39m:x\u001b[38;5;241m*\u001b[39m\u001b[38;5;241m2\u001b[39m\u001b[38;5;241m+\u001b[39m\u001b[38;5;241m2\u001b[39m, y\u001b[38;5;241m*\u001b[39m\u001b[38;5;241m2\u001b[39m:y\u001b[38;5;241m*\u001b[39m\u001b[38;5;241m2\u001b[39m\u001b[38;5;241m+\u001b[39m\u001b[38;5;241m2\u001b[39m])\n\u001b[0;32m     35\u001b[0m new_sign \u001b[38;5;241m=\u001b[39m new_sign\u001b[38;5;241m.\u001b[39msign()\n\u001b[0;32m     37\u001b[0m \u001b[38;5;66;03m# sign_gradient[sign_gradient] = 0\u001b[39;00m\n\u001b[0;32m     38\u001b[0m \u001b[38;5;66;03m# Tạo mẫu tấn công\u001b[39;00m\n",
      "\u001b[1;31mKeyboardInterrupt\u001b[0m: "
     ]
    }
   ],
   "source": [
    "\n",
    "t = 30\n",
    "\n",
    "from tqdm import tqdm\n",
    "\n",
    "total = 0\n",
    "correct = 0\n",
    "\n",
    "for images, labels in tqdm(dataloader):\n",
    "    images, labels = images.to(device), labels.to(device)\n",
    "\n",
    "    img_2_channel = torch.concatenate((images, images), 1)\n",
    "    dqn_predict = dqn(img_2_channel)\n",
    "    predict = dqn_predict.argmax(1)\n",
    "\n",
    "    dqn_img = dqn_predict.view(14, 14).detach().cpu().numpy()\n",
    "    #normalize\n",
    "    dqn_img = (dqn_img - dqn_img.min()) / (dqn_img.max() - dqn_img.min())\n",
    "    # 1 if > 0 else 0\n",
    "    # dqn_img = np.where(dqn_img > 0, 1, 0)\n",
    "\n",
    "\n",
    "    # print(f\"Predict: {dqn_img}\")\n",
    "    # dqn_img = np.zeros((14, 14))\n",
    "    # dqn_img[predict//14, predict%14] = 1\n",
    "    \n",
    "    # Đặt chế độ tính gradient\n",
    "    images.requires_grad = True\n",
    "    \n",
    "    # Dự đoán ban đầu\n",
    "    outputs = model(images)\n",
    "\n",
    "    start_label = outputs.argmax(1).item()\n",
    "\n",
    "    loss = criterion(outputs, labels)\n",
    "    \n",
    "    # Tính gradient\n",
    "    model.zero_grad()\n",
    "    loss.backward()\n",
    "    gradient = images.grad.data\n",
    "\n",
    "    # grid_img = np.zeros((14, 14))\n",
    "    # for i in range(14):\n",
    "    #     for j in range(14):\n",
    "    #         grid_img[i, j] = gradient[0, 0, i*2:(i+1)*2, j*2:(j+1)*2].mean().item()\n",
    "\n",
    "    grid_img = gradient.view(28, 28).detach().sign().cpu().numpy()\n",
    "    # 0 if < 0 else 1\n",
    "    grid_img = np.where(grid_img < 0, 0, 1)\n",
    "\n",
    "    # Tạo mẫu nhiễu\n",
    "    perturbed_image, sign_gradient = fgsm_attack(images, epsilon, gradient)\n",
    "\n",
    "    distance = torch.norm(perturbed_image - images)\n",
    "    # print(f\"Distance FGSM: {distance}\")\n",
    "    \n",
    "    # Kiểm tra dự đoán trên mẫu bị tấn công\n",
    "    outputs_perturbed = model(perturbed_image)\n",
    "    _, final_pred = outputs_perturbed.max(1)\n",
    "    \n",
    "    # print(f\"Label gốc: {start_label}, FGSM: {final_pred.item()}\")\n",
    "\n",
    "    attack2_image = fgsm_attack_2(images, epsilon, torch.tensor(dqn_img).float().to(device))\n",
    "    outputs_perturbed2 = model(attack2_image)\n",
    "    _, final_pred2 = outputs_perturbed2.max(1)\n",
    "    # print(f\"CC: {final_pred2.item()}\")\n",
    "    distance2 = torch.norm(attack2_image - images)\n",
    "    # print(f\"Distance CC: {distance2}\")\n",
    "\n",
    "    # # Hiển thị mẫu gốc, grad và mẫu bị tấn công\n",
    "    # import matplotlib.pyplot as plt\n",
    "    # plt.figure()\n",
    "    # plt.subplot(151)\n",
    "    # plt.imshow(images.squeeze().cpu().detach().numpy(), cmap='gray')\n",
    "    # plt.title('Image')\n",
    "    # plt.subplot(152)\n",
    "    # plt.imshow(grid_img, cmap='gray')\n",
    "    # plt.title('Gradient')\n",
    "    # plt.subplot(153)\n",
    "    # plt.imshow(perturbed_image.squeeze().detach().cpu().numpy(), cmap='gray')\n",
    "    # plt.title('FGSM')\n",
    "    # plt.subplot(154)\n",
    "    # plt.imshow(attack2_image.squeeze().detach().cpu().numpy(), cmap='gray')\n",
    "    # plt.title('CC')\n",
    "    # plt.subplot(155)\n",
    "    # plt.imshow(dqn_img, cmap='gray')\n",
    "    # plt.title('DQN Mask')\n",
    "\n",
    "\n",
    "    # plt.show()\n",
    "    \n",
    "    # t -= 1\n",
    "    # if t == 0:\n",
    "    #     break\n",
    "    total += 1\n",
    "    if start_label != final_pred.item():\n",
    "        correct += 1\n",
    "\n",
    "    print(f\"Accuracy: {correct/total}\")\n",
    "\n",
    "# print(f\"Accuracy: {correct/total}\")"
   ]
  },
  {
   "cell_type": "code",
   "execution_count": null,
   "metadata": {},
   "outputs": [],
   "source": []
  }
 ],
 "metadata": {
  "kernelspec": {
   "display_name": "Python 3",
   "language": "python",
   "name": "python3"
  },
  "language_info": {
   "codemirror_mode": {
    "name": "ipython",
    "version": 3
   },
   "file_extension": ".py",
   "mimetype": "text/x-python",
   "name": "python",
   "nbconvert_exporter": "python",
   "pygments_lexer": "ipython3",
   "version": "3.12.5"
  }
 },
 "nbformat": 4,
 "nbformat_minor": 2
}
