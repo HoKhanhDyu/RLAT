{
 "cells": [
  {
   "cell_type": "code",
   "execution_count": null,
   "metadata": {},
   "outputs": [
    {
     "name": "stderr",
     "output_type": "stream",
     "text": [
      "<>:20: SyntaxWarning: invalid escape sequence '\\m'\n",
      "<>:20: SyntaxWarning: invalid escape sequence '\\m'\n",
      "C:\\Users\\hokha\\AppData\\Local\\Temp\\ipykernel_21672\\3590220608.py:20: SyntaxWarning: invalid escape sequence '\\m'\n",
      "  model.load_state_dict(torch.load('trained_model\\mnist_cc.pth'))\n",
      "C:\\Users\\hokha\\AppData\\Local\\Temp\\ipykernel_21672\\3590220608.py:20: FutureWarning: You are using `torch.load` with `weights_only=False` (the current default value), which uses the default pickle module implicitly. It is possible to construct malicious pickle data which will execute arbitrary code during unpickling (See https://github.com/pytorch/pytorch/blob/main/SECURITY.md#untrusted-models for more details). In a future release, the default value for `weights_only` will be flipped to `True`. This limits the functions that could be executed during unpickling. Arbitrary objects will no longer be allowed to be loaded via this mode unless they are explicitly allowlisted by the user via `torch.serialization.add_safe_globals`. We recommend you start setting `weights_only=True` for any use case where you don't have full control of the loaded file. Please open an issue on GitHub for any issues related to this experimental feature.\n",
      "  model.load_state_dict(torch.load('trained_model\\mnist_cc.pth'))\n",
      "C:\\Users\\hokha\\AppData\\Local\\Temp\\ipykernel_21672\\3590220608.py:49: FutureWarning: You are using `torch.load` with `weights_only=False` (the current default value), which uses the default pickle module implicitly. It is possible to construct malicious pickle data which will execute arbitrary code during unpickling (See https://github.com/pytorch/pytorch/blob/main/SECURITY.md#untrusted-models for more details). In a future release, the default value for `weights_only` will be flipped to `True`. This limits the functions that could be executed during unpickling. Arbitrary objects will no longer be allowed to be loaded via this mode unless they are explicitly allowlisted by the user via `torch.serialization.add_safe_globals`. We recommend you start setting `weights_only=True` for any use case where you don't have full control of the loaded file. Please open an issue on GitHub for any issues related to this experimental feature.\n",
      "  dqn.load_state_dict(torch.load('model_0_trenvong_2.pth'))\n"
     ]
    },
    {
     "data": {
      "text/plain": [
       "DQN_Conv(\n",
       "  (classifier): Sequential(\n",
       "    (0): Conv2d(2, 32, kernel_size=(3, 3), stride=(1, 1))\n",
       "    (1): ReLU()\n",
       "    (2): Conv2d(32, 64, kernel_size=(3, 3), stride=(1, 1))\n",
       "    (3): ReLU()\n",
       "    (4): MaxPool2d(kernel_size=2, stride=2, padding=0, dilation=1, ceil_mode=False)\n",
       "    (5): Dropout(p=0.25, inplace=False)\n",
       "    (6): Flatten(start_dim=1, end_dim=-1)\n",
       "    (7): Linear(in_features=9216, out_features=1024, bias=True)\n",
       "    (8): ReLU()\n",
       "    (9): Dropout(p=0.5, inplace=False)\n",
       "    (10): Linear(in_features=1024, out_features=128, bias=True)\n",
       "    (11): ReLU()\n",
       "    (12): Dropout(p=0.5, inplace=False)\n",
       "    (13): Linear(in_features=128, out_features=196, bias=True)\n",
       "  )\n",
       ")"
      ]
     },
     "execution_count": 19,
     "metadata": {},
     "output_type": "execute_result"
    }
   ],
   "source": [
    "import torch\n",
    "import torch.nn as nn\n",
    "import torch.optim as optim\n",
    "import torchvision.transforms as transforms\n",
    "import torchvision.datasets as datasets\n",
    "from torch.utils.data import DataLoader\n",
    "from dataset import get_dataset\n",
    "import torchvision\n",
    "import numpy as np\n",
    "from arch import DQN_Conv\n",
    "\n",
    "# Tải mô hình đơn giản (ví dụ: ResNet)\n",
    "from arch import MNIST_CC\n",
    "\n",
    "# 1. Cấu hình thiết bị\n",
    "device = torch.device(\"cuda\" if torch.cuda.is_available() else \"cpu\")\n",
    "\n",
    "# 2. Tải mô hình đã huấn luyện trước\n",
    "model = MNIST_CC()\n",
    "model.load_state_dict(torch.load('trained_model\\mnist_cc.pth'))\n",
    "\n",
    "model.eval().to(device)  # Đặt chế độ đánh giá (evaluation mode)\n",
    "\n",
    "# 3. Định nghĩa FGSM Attack\n",
    "def fgsm_attack(image, epsilon, gradient):\n",
    "    # Lấy dấu của gradient\n",
    "    sign_gradient = gradient.sign()\n",
    "    sign_gradient[sign_gradient < 0] = 0\n",
    "    # Tạo mẫu tấn công\n",
    "    perturbed_image = image + epsilon * sign_gradient\n",
    "    # Giới hạn giá trị pixel [0, 1]\n",
    "    perturbed_image = torch.clamp(perturbed_image, 0, 1)\n",
    "    return perturbed_image\n",
    "\n",
    "# 4. Chuẩn bị dữ liệu\n",
    "transform = transforms.Compose([\n",
    "    transforms.Resize((224, 224)),\n",
    "    transforms.ToTensor()\n",
    "])\n",
    "dataset = get_dataset('mnist', split='train')\n",
    "dataloader = DataLoader(dataset, batch_size=1, shuffle=True)\n",
    "\n",
    "# 5. Tấn công mẫu đầu tiên\n",
    "epsilon = 0.1  # Mức độ nhiễu\n",
    "criterion = nn.CrossEntropyLoss()\n",
    "\n",
    "\n",
    "dqn = DQN_Conv(28*28, 14*14)\n",
    "dqn.load_state_dict(torch.load('model_0_trenvong_2.pth'))\n",
    "dqn.eval().to(device)\n"
   ]
  },
  {
   "cell_type": "code",
   "execution_count": 20,
   "metadata": {},
   "outputs": [
    {
     "name": "stderr",
     "output_type": "stream",
     "text": [
      "  0%|          | 3/60000 [00:00<43:57, 22.75it/s]"
     ]
    },
    {
     "name": "stdout",
     "output_type": "stream",
     "text": [
      "Accuracy: 0.0\n",
      "Accuracy: 0.0\n",
      "Accuracy: 0.0\n",
      "Accuracy: 0.25\n",
      "Accuracy: 0.2\n",
      "Accuracy: 0.16666666666666666\n"
     ]
    },
    {
     "name": "stderr",
     "output_type": "stream",
     "text": [
      "  0%|          | 10/60000 [00:00<35:57, 27.80it/s]"
     ]
    },
    {
     "name": "stdout",
     "output_type": "stream",
     "text": [
      "Accuracy: 0.14285714285714285\n",
      "Accuracy: 0.25\n",
      "Accuracy: 0.2222222222222222\n",
      "Accuracy: 0.2\n",
      "Accuracy: 0.2727272727272727\n",
      "Accuracy: 0.3333333333333333\n"
     ]
    },
    {
     "name": "stderr",
     "output_type": "stream",
     "text": [
      "  0%|          | 16/60000 [00:00<36:35, 27.32it/s]"
     ]
    },
    {
     "name": "stdout",
     "output_type": "stream",
     "text": [
      "Accuracy: 0.38461538461538464\n",
      "Accuracy: 0.35714285714285715\n",
      "Accuracy: 0.4\n",
      "Accuracy: 0.4375\n",
      "Accuracy: 0.4117647058823529\n",
      "Accuracy: 0.3888888888888889\n"
     ]
    },
    {
     "name": "stderr",
     "output_type": "stream",
     "text": [
      "  0%|          | 22/60000 [00:00<37:01, 27.00it/s]"
     ]
    },
    {
     "name": "stdout",
     "output_type": "stream",
     "text": [
      "Accuracy: 0.3684210526315789\n",
      "Accuracy: 0.4\n",
      "Accuracy: 0.42857142857142855\n",
      "Accuracy: 0.4090909090909091\n",
      "Accuracy: 0.391304347826087\n",
      "Accuracy: 0.375\n"
     ]
    },
    {
     "name": "stderr",
     "output_type": "stream",
     "text": [
      "  0%|          | 28/60000 [00:01<37:17, 26.80it/s]"
     ]
    },
    {
     "name": "stdout",
     "output_type": "stream",
     "text": [
      "Accuracy: 0.36\n",
      "Accuracy: 0.34615384615384615\n",
      "Accuracy: 0.3333333333333333\n",
      "Accuracy: 0.35714285714285715\n",
      "Accuracy: 0.3448275862068966\n",
      "Accuracy: 0.36666666666666664\n"
     ]
    },
    {
     "name": "stderr",
     "output_type": "stream",
     "text": [
      "  0%|          | 34/60000 [00:01<35:56, 27.81it/s]"
     ]
    },
    {
     "name": "stdout",
     "output_type": "stream",
     "text": [
      "Accuracy: 0.3548387096774194\n",
      "Accuracy: 0.34375\n",
      "Accuracy: 0.3333333333333333\n",
      "Accuracy: 0.3235294117647059\n",
      "Accuracy: 0.3142857142857143\n",
      "Accuracy: 0.3055555555555556\n"
     ]
    },
    {
     "name": "stderr",
     "output_type": "stream",
     "text": [
      "  0%|          | 40/60000 [00:01<36:34, 27.33it/s]"
     ]
    },
    {
     "name": "stdout",
     "output_type": "stream",
     "text": [
      "Accuracy: 0.32432432432432434\n",
      "Accuracy: 0.3157894736842105\n",
      "Accuracy: 0.3333333333333333\n",
      "Accuracy: 0.325\n",
      "Accuracy: 0.3170731707317073\n",
      "Accuracy: 0.30952380952380953\n"
     ]
    },
    {
     "name": "stderr",
     "output_type": "stream",
     "text": [
      "  0%|          | 46/60000 [00:01<36:19, 27.51it/s]"
     ]
    },
    {
     "name": "stdout",
     "output_type": "stream",
     "text": [
      "Accuracy: 0.32558139534883723\n",
      "Accuracy: 0.3181818181818182\n",
      "Accuracy: 0.3333333333333333\n",
      "Accuracy: 0.32608695652173914\n",
      "Accuracy: 0.3404255319148936\n",
      "Accuracy: 0.3333333333333333\n"
     ]
    },
    {
     "name": "stderr",
     "output_type": "stream",
     "text": [
      "  0%|          | 52/60000 [00:01<37:48, 26.43it/s]"
     ]
    },
    {
     "name": "stdout",
     "output_type": "stream",
     "text": [
      "Accuracy: 0.32653061224489793\n",
      "Accuracy: 0.32\n",
      "Accuracy: 0.3137254901960784\n",
      "Accuracy: 0.3076923076923077\n",
      "Accuracy: 0.3018867924528302\n",
      "Accuracy: 0.2962962962962963\n"
     ]
    },
    {
     "name": "stderr",
     "output_type": "stream",
     "text": [
      "  0%|          | 58/60000 [00:02<36:07, 27.65it/s]"
     ]
    },
    {
     "name": "stdout",
     "output_type": "stream",
     "text": [
      "Accuracy: 0.2909090909090909\n",
      "Accuracy: 0.2857142857142857\n",
      "Accuracy: 0.2982456140350877\n",
      "Accuracy: 0.29310344827586204\n",
      "Accuracy: 0.3050847457627119\n",
      "Accuracy: 0.3\n"
     ]
    },
    {
     "name": "stderr",
     "output_type": "stream",
     "text": [
      "  0%|          | 64/60000 [00:02<36:19, 27.50it/s]"
     ]
    },
    {
     "name": "stdout",
     "output_type": "stream",
     "text": [
      "Accuracy: 0.29508196721311475\n",
      "Accuracy: 0.2903225806451613\n",
      "Accuracy: 0.2857142857142857\n",
      "Accuracy: 0.28125\n",
      "Accuracy: 0.2923076923076923\n",
      "Accuracy: 0.30303030303030304\n"
     ]
    },
    {
     "name": "stderr",
     "output_type": "stream",
     "text": [
      "  0%|          | 70/60000 [00:02<36:10, 27.61it/s]"
     ]
    },
    {
     "name": "stdout",
     "output_type": "stream",
     "text": [
      "Accuracy: 0.29850746268656714\n",
      "Accuracy: 0.29411764705882354\n",
      "Accuracy: 0.2898550724637681\n",
      "Accuracy: 0.2857142857142857\n",
      "Accuracy: 0.28169014084507044\n",
      "Accuracy: 0.2916666666666667\n"
     ]
    },
    {
     "name": "stderr",
     "output_type": "stream",
     "text": [
      "  0%|          | 76/60000 [00:02<35:24, 28.21it/s]"
     ]
    },
    {
     "name": "stdout",
     "output_type": "stream",
     "text": [
      "Accuracy: 0.2876712328767123\n",
      "Accuracy: 0.28378378378378377\n",
      "Accuracy: 0.28\n",
      "Accuracy: 0.27631578947368424\n",
      "Accuracy: 0.2857142857142857\n",
      "Accuracy: 0.28205128205128205\n"
     ]
    },
    {
     "name": "stderr",
     "output_type": "stream",
     "text": [
      "  0%|          | 82/60000 [00:03<35:59, 27.75it/s]"
     ]
    },
    {
     "name": "stdout",
     "output_type": "stream",
     "text": [
      "Accuracy: 0.2911392405063291\n",
      "Accuracy: 0.3\n",
      "Accuracy: 0.30864197530864196\n",
      "Accuracy: 0.3048780487804878\n",
      "Accuracy: 0.3132530120481928\n",
      "Accuracy: 0.30952380952380953\n",
      "Accuracy: 0.3176470588235294\n"
     ]
    },
    {
     "name": "stderr",
     "output_type": "stream",
     "text": [
      "  0%|          | 91/60000 [00:03<35:12, 28.36it/s]"
     ]
    },
    {
     "name": "stdout",
     "output_type": "stream",
     "text": [
      "Accuracy: 0.313953488372093\n",
      "Accuracy: 0.3103448275862069\n",
      "Accuracy: 0.3181818181818182\n",
      "Accuracy: 0.3258426966292135\n",
      "Accuracy: 0.3333333333333333\n",
      "Accuracy: 0.34065934065934067\n",
      "Accuracy: 0.34782608695652173\n"
     ]
    },
    {
     "name": "stderr",
     "output_type": "stream",
     "text": [
      "  0%|          | 97/60000 [00:03<35:26, 28.17it/s]"
     ]
    },
    {
     "name": "stdout",
     "output_type": "stream",
     "text": [
      "Accuracy: 0.34408602150537637\n",
      "Accuracy: 0.3404255319148936\n",
      "Accuracy: 0.3368421052631579\n",
      "Accuracy: 0.3333333333333333\n",
      "Accuracy: 0.3402061855670103\n",
      "Accuracy: 0.3469387755102041\n",
      "Accuracy: 0.3434343434343434\n"
     ]
    },
    {
     "name": "stderr",
     "output_type": "stream",
     "text": [
      "  0%|          | 103/60000 [00:03<35:23, 28.21it/s]"
     ]
    },
    {
     "name": "stdout",
     "output_type": "stream",
     "text": [
      "Accuracy: 0.34\n",
      "Accuracy: 0.33663366336633666\n",
      "Accuracy: 0.3431372549019608\n",
      "Accuracy: 0.33980582524271846\n",
      "Accuracy: 0.33653846153846156\n",
      "Accuracy: 0.3333333333333333\n"
     ]
    },
    {
     "name": "stderr",
     "output_type": "stream",
     "text": [
      "  0%|          | 109/60000 [00:03<35:41, 27.97it/s]"
     ]
    },
    {
     "name": "stdout",
     "output_type": "stream",
     "text": [
      "Accuracy: 0.330188679245283\n",
      "Accuracy: 0.32710280373831774\n",
      "Accuracy: 0.32407407407407407\n",
      "Accuracy: 0.3211009174311927\n",
      "Accuracy: 0.3181818181818182\n",
      "Accuracy: 0.3153153153153153\n"
     ]
    },
    {
     "name": "stderr",
     "output_type": "stream",
     "text": [
      "  0%|          | 115/60000 [00:04<36:08, 27.62it/s]"
     ]
    },
    {
     "name": "stdout",
     "output_type": "stream",
     "text": [
      "Accuracy: 0.3125\n",
      "Accuracy: 0.30973451327433627\n",
      "Accuracy: 0.30701754385964913\n",
      "Accuracy: 0.30434782608695654\n",
      "Accuracy: 0.3017241379310345\n",
      "Accuracy: 0.3076923076923077\n"
     ]
    },
    {
     "name": "stderr",
     "output_type": "stream",
     "text": [
      "  0%|          | 121/60000 [00:04<36:20, 27.46it/s]"
     ]
    },
    {
     "name": "stdout",
     "output_type": "stream",
     "text": [
      "Accuracy: 0.3135593220338983\n",
      "Accuracy: 0.31092436974789917\n",
      "Accuracy: 0.30833333333333335\n",
      "Accuracy: 0.3140495867768595\n",
      "Accuracy: 0.319672131147541\n",
      "Accuracy: 0.3170731707317073\n"
     ]
    },
    {
     "name": "stderr",
     "output_type": "stream",
     "text": [
      "  0%|          | 127/60000 [00:04<37:17, 26.76it/s]"
     ]
    },
    {
     "name": "stdout",
     "output_type": "stream",
     "text": [
      "Accuracy: 0.3225806451612903\n",
      "Accuracy: 0.32\n",
      "Accuracy: 0.31746031746031744\n",
      "Accuracy: 0.31496062992125984\n",
      "Accuracy: 0.3125\n",
      "Accuracy: 0.31007751937984496\n"
     ]
    },
    {
     "name": "stderr",
     "output_type": "stream",
     "text": [
      "  0%|          | 133/60000 [00:04<37:16, 26.77it/s]"
     ]
    },
    {
     "name": "stdout",
     "output_type": "stream",
     "text": [
      "Accuracy: 0.3076923076923077\n",
      "Accuracy: 0.3053435114503817\n",
      "Accuracy: 0.30303030303030304\n",
      "Accuracy: 0.3007518796992481\n",
      "Accuracy: 0.29850746268656714\n",
      "Accuracy: 0.3037037037037037\n"
     ]
    },
    {
     "name": "stderr",
     "output_type": "stream",
     "text": [
      "  0%|          | 140/60000 [00:05<36:04, 27.66it/s]"
     ]
    },
    {
     "name": "stdout",
     "output_type": "stream",
     "text": [
      "Accuracy: 0.3014705882352941\n",
      "Accuracy: 0.29927007299270075\n",
      "Accuracy: 0.2971014492753623\n",
      "Accuracy: 0.302158273381295\n",
      "Accuracy: 0.3\n",
      "Accuracy: 0.2978723404255319\n"
     ]
    },
    {
     "name": "stderr",
     "output_type": "stream",
     "text": [
      "  0%|          | 146/60000 [00:05<36:21, 27.44it/s]"
     ]
    },
    {
     "name": "stdout",
     "output_type": "stream",
     "text": [
      "Accuracy: 0.3028169014084507\n",
      "Accuracy: 0.3076923076923077\n",
      "Accuracy: 0.3055555555555556\n",
      "Accuracy: 0.30344827586206896\n",
      "Accuracy: 0.3013698630136986\n",
      "Accuracy: 0.29931972789115646\n"
     ]
    },
    {
     "name": "stderr",
     "output_type": "stream",
     "text": [
      "  0%|          | 153/60000 [00:05<35:20, 28.22it/s]"
     ]
    },
    {
     "name": "stdout",
     "output_type": "stream",
     "text": [
      "Accuracy: 0.30405405405405406\n",
      "Accuracy: 0.30201342281879195\n",
      "Accuracy: 0.3\n",
      "Accuracy: 0.2980132450331126\n",
      "Accuracy: 0.29605263157894735\n",
      "Accuracy: 0.29411764705882354\n",
      "Accuracy: 0.2922077922077922\n"
     ]
    },
    {
     "name": "stderr",
     "output_type": "stream",
     "text": [
      "  0%|          | 160/60000 [00:05<35:17, 28.26it/s]"
     ]
    },
    {
     "name": "stdout",
     "output_type": "stream",
     "text": [
      "Accuracy: 0.2903225806451613\n",
      "Accuracy: 0.28846153846153844\n",
      "Accuracy: 0.28662420382165604\n",
      "Accuracy: 0.2848101265822785\n",
      "Accuracy: 0.2830188679245283\n",
      "Accuracy: 0.28125\n"
     ]
    },
    {
     "name": "stderr",
     "output_type": "stream",
     "text": [
      "  0%|          | 163/60000 [00:05<36:23, 27.40it/s]"
     ]
    },
    {
     "name": "stdout",
     "output_type": "stream",
     "text": [
      "Accuracy: 0.2795031055900621\n",
      "Accuracy: 0.2777777777777778\n",
      "Accuracy: 0.2822085889570552\n"
     ]
    },
    {
     "name": "stderr",
     "output_type": "stream",
     "text": [
      "\n"
     ]
    },
    {
     "ename": "KeyboardInterrupt",
     "evalue": "",
     "output_type": "error",
     "traceback": [
      "\u001b[1;31m---------------------------------------------------------------------------\u001b[0m",
      "\u001b[1;31mKeyboardInterrupt\u001b[0m                         Traceback (most recent call last)",
      "Cell \u001b[1;32mIn[20], line 68\u001b[0m\n\u001b[0;32m     43\u001b[0m \u001b[38;5;66;03m# print(f\"Label gốc: {labels.item()}, Dự đoán sau tấn công: {final_pred.item()}\")\u001b[39;00m\n\u001b[0;32m     44\u001b[0m \n\u001b[0;32m     45\u001b[0m \u001b[38;5;66;03m# Hiển thị mẫu gốc, grad và mẫu bị tấn công\u001b[39;00m\n\u001b[1;32m   (...)\u001b[0m\n\u001b[0;32m     65\u001b[0m \u001b[38;5;66;03m# if t == 0:\u001b[39;00m\n\u001b[0;32m     66\u001b[0m \u001b[38;5;66;03m#     break\u001b[39;00m\n\u001b[0;32m     67\u001b[0m total \u001b[38;5;241m+\u001b[39m\u001b[38;5;241m=\u001b[39m \u001b[38;5;241m1\u001b[39m\n\u001b[1;32m---> 68\u001b[0m \u001b[38;5;28;01mif\u001b[39;00m \u001b[43mlabels\u001b[49m\u001b[38;5;241;43m.\u001b[39;49m\u001b[43mitem\u001b[49m\u001b[43m(\u001b[49m\u001b[43m)\u001b[49m \u001b[38;5;241m!=\u001b[39m final_pred\u001b[38;5;241m.\u001b[39mitem():\n\u001b[0;32m     69\u001b[0m     correct \u001b[38;5;241m+\u001b[39m\u001b[38;5;241m=\u001b[39m \u001b[38;5;241m1\u001b[39m\n\u001b[0;32m     71\u001b[0m \u001b[38;5;28mprint\u001b[39m(\u001b[38;5;124mf\u001b[39m\u001b[38;5;124m\"\u001b[39m\u001b[38;5;124mAccuracy: \u001b[39m\u001b[38;5;132;01m{\u001b[39;00mcorrect\u001b[38;5;241m/\u001b[39mtotal\u001b[38;5;132;01m}\u001b[39;00m\u001b[38;5;124m\"\u001b[39m)\n",
      "\u001b[1;31mKeyboardInterrupt\u001b[0m: "
     ]
    }
   ],
   "source": [
    "\n",
    "t = 5\n",
    "\n",
    "from tqdm import tqdm\n",
    "\n",
    "total = 0\n",
    "correct = 0\n",
    "\n",
    "for images, labels in tqdm(dataloader):\n",
    "    images, labels = images.to(device), labels.to(device)\n",
    "\n",
    "    img_2_channel = torch.concatenate((images, images), 1)\n",
    "    dqn_predict = dqn(img_2_channel)\n",
    "    predict = dqn_predict.argmax(1)\n",
    "\n",
    "    # dqn_img = dqn_predict.view(14, 14).detach().cpu().numpy()\n",
    "    dqn_img = np.zeros((14, 14))\n",
    "    dqn_img[predict//14, predict%14] = 1\n",
    "    \n",
    "    # Đặt chế độ tính gradient\n",
    "    images.requires_grad = True\n",
    "    \n",
    "    # Dự đoán ban đầu\n",
    "    outputs = model(images)\n",
    "    loss = criterion(outputs, labels)\n",
    "    \n",
    "    # Tính gradient\n",
    "    model.zero_grad()\n",
    "    loss.backward()\n",
    "    gradient = images.grad.data\n",
    "\n",
    "    grid_img = np.zeros((14, 14))\n",
    "    for i in range(14):\n",
    "        for j in range(14):\n",
    "            grid_img[i, j] = gradient[0, 0, i*2:(i+1)*2, j*2:(j+1)*2].mean().item()\n",
    "\n",
    "    # Tạo mẫu nhiễu\n",
    "    perturbed_image = fgsm_attack(images, epsilon, gradient)\n",
    "    \n",
    "    # Kiểm tra dự đoán trên mẫu bị tấn công\n",
    "    outputs_perturbed = model(perturbed_image)\n",
    "    _, final_pred = outputs_perturbed.max(1)\n",
    "    \n",
    "    # print(f\"Label gốc: {labels.item()}, Dự đoán sau tấn công: {final_pred.item()}\")\n",
    "\n",
    "    # Hiển thị mẫu gốc, grad và mẫu bị tấn công\n",
    "    # import matplotlib.pyplot as plt\n",
    "    # plt.figure()\n",
    "    # plt.subplot(141)\n",
    "    # plt.imshow(images.squeeze().cpu().detach().numpy(), cmap='gray')\n",
    "    # plt.title('Original Image')\n",
    "    # plt.subplot(142)\n",
    "    # plt.imshow(grid_img, cmap='gray')\n",
    "    # plt.title('Gradient')\n",
    "    # plt.subplot(143)\n",
    "    # plt.imshow(perturbed_image.squeeze().detach().cpu().numpy(), cmap='gray')\n",
    "    # plt.title('Perturbed Image')\n",
    "    # plt.subplot(144)\n",
    "    # plt.imshow(dqn_img, cmap='gray')\n",
    "    # plt.title('DQN Image')\n",
    "\n",
    "\n",
    "    # plt.show()\n",
    "    \n",
    "    # t -= 1\n",
    "    # if t == 0:\n",
    "    #     break\n",
    "    total += 1\n",
    "    if labels.item() != final_pred.item():\n",
    "        correct += 1\n",
    "\n",
    "    print(f\"Accuracy: {correct/total}\")\n",
    "\n",
    "print(f\"Accuracy: {correct/total}\")"
   ]
  },
  {
   "cell_type": "code",
   "execution_count": null,
   "metadata": {},
   "outputs": [],
   "source": []
  }
 ],
 "metadata": {
  "kernelspec": {
   "display_name": "Python 3",
   "language": "python",
   "name": "python3"
  },
  "language_info": {
   "codemirror_mode": {
    "name": "ipython",
    "version": 3
   },
   "file_extension": ".py",
   "mimetype": "text/x-python",
   "name": "python",
   "nbconvert_exporter": "python",
   "pygments_lexer": "ipython3",
   "version": "3.12.5"
  }
 },
 "nbformat": 4,
 "nbformat_minor": 2
}
