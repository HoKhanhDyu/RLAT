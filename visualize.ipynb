{
 "cells": [
  {
   "cell_type": "code",
   "execution_count": null,
   "metadata": {},
   "outputs": [
    {
     "name": "stderr",
     "output_type": "stream",
     "text": [
      "<>:20: SyntaxWarning: invalid escape sequence '\\m'\n",
      "<>:20: SyntaxWarning: invalid escape sequence '\\m'\n",
      "C:\\Users\\hokha\\AppData\\Local\\Temp\\ipykernel_1520\\966610712.py:20: SyntaxWarning: invalid escape sequence '\\m'\n",
      "  model.load_state_dict(torch.load('trained_model\\mnist_cc.pth'))\n",
      "C:\\Users\\hokha\\AppData\\Local\\Temp\\ipykernel_1520\\966610712.py:20: FutureWarning: You are using `torch.load` with `weights_only=False` (the current default value), which uses the default pickle module implicitly. It is possible to construct malicious pickle data which will execute arbitrary code during unpickling (See https://github.com/pytorch/pytorch/blob/main/SECURITY.md#untrusted-models for more details). In a future release, the default value for `weights_only` will be flipped to `True`. This limits the functions that could be executed during unpickling. Arbitrary objects will no longer be allowed to be loaded via this mode unless they are explicitly allowlisted by the user via `torch.serialization.add_safe_globals`. We recommend you start setting `weights_only=True` for any use case where you don't have full control of the loaded file. Please open an issue on GitHub for any issues related to this experimental feature.\n",
      "  model.load_state_dict(torch.load('trained_model\\mnist_cc.pth'))\n",
      "C:\\Users\\hokha\\AppData\\Local\\Temp\\ipykernel_1520\\966610712.py:50: FutureWarning: You are using `torch.load` with `weights_only=False` (the current default value), which uses the default pickle module implicitly. It is possible to construct malicious pickle data which will execute arbitrary code during unpickling (See https://github.com/pytorch/pytorch/blob/main/SECURITY.md#untrusted-models for more details). In a future release, the default value for `weights_only` will be flipped to `True`. This limits the functions that could be executed during unpickling. Arbitrary objects will no longer be allowed to be loaded via this mode unless they are explicitly allowlisted by the user via `torch.serialization.add_safe_globals`. We recommend you start setting `weights_only=True` for any use case where you don't have full control of the loaded file. Please open an issue on GitHub for any issues related to this experimental feature.\n",
      "  dqn.load_state_dict(torch.load('model_0_trenvong_2.pth'))\n"
     ]
    },
    {
     "data": {
      "text/plain": [
       "DQN_Conv(\n",
       "  (classifier): Sequential(\n",
       "    (0): Conv2d(2, 32, kernel_size=(3, 3), stride=(1, 1))\n",
       "    (1): ReLU()\n",
       "    (2): Conv2d(32, 64, kernel_size=(3, 3), stride=(1, 1))\n",
       "    (3): ReLU()\n",
       "    (4): MaxPool2d(kernel_size=2, stride=2, padding=0, dilation=1, ceil_mode=False)\n",
       "    (5): Dropout(p=0.25, inplace=False)\n",
       "    (6): Flatten(start_dim=1, end_dim=-1)\n",
       "    (7): Linear(in_features=9216, out_features=1024, bias=True)\n",
       "    (8): ReLU()\n",
       "    (9): Dropout(p=0.5, inplace=False)\n",
       "    (10): Linear(in_features=1024, out_features=128, bias=True)\n",
       "    (11): ReLU()\n",
       "    (12): Dropout(p=0.5, inplace=False)\n",
       "    (13): Linear(in_features=128, out_features=196, bias=True)\n",
       "  )\n",
       ")"
      ]
     },
     "execution_count": 8,
     "metadata": {},
     "output_type": "execute_result"
    }
   ],
   "source": [
    "import torch\n",
    "import torch.nn as nn\n",
    "import torch.optim as optim\n",
    "import torchvision.transforms as transforms\n",
    "import torchvision.datasets as datasets\n",
    "from torch.utils.data import DataLoader\n",
    "from dataset import get_dataset\n",
    "import torchvision\n",
    "import numpy as np\n",
    "from arch import DQN_Conv\n",
    "\n",
    "# Tải mô hình đơn giản (ví dụ: ResNet)\n",
    "from arch import MNIST_CC\n",
    "\n",
    "# 1. Cấu hình thiết bị\n",
    "device = torch.device(\"cuda\" if torch.cuda.is_available() else \"cpu\")\n",
    "\n",
    "# 2. Tải mô hình đã huấn luyện trước\n",
    "model = MNIST_CC()\n",
    "model.load_state_dict(torch.load('trained_model\\mnist_cc.pth'))\n",
    "\n",
    "model.eval().to(device)  # Đặt chế độ đánh giá (evaluation mode)\n",
    "\n",
    "# 3. Định nghĩa FGSM Attack\n",
    "def fgsm_attack(image, epsilon, gradient):\n",
    "    # Lấy dấu của gradient\n",
    "    sign_gradient = gradient.sign()\n",
    "    sign_gradient[sign_gradient < 0] = 0\n",
    "    # Tạo mẫu tấn công\n",
    "    perturbed_image = image + epsilon * sign_gradient\n",
    "    # Giới hạn giá trị pixel [0, 1]\n",
    "    perturbed_image = torch.clamp(perturbed_image, 0, 1)\n",
    "    image_final = image + sign_gradient / torch.norm(sign_gradient, p=2) * 2\n",
    "    image_final = torch.clamp(image_final, 0, 1)\n",
    "    return image_final\n",
    "\n",
    "# 4. Chuẩn bị dữ liệu\n",
    "transform = transforms.Compose([\n",
    "    transforms.Resize((224, 224)),\n",
    "    transforms.ToTensor()\n",
    "])\n",
    "dataset = get_dataset('mnist', split='train')\n",
    "dataloader = DataLoader(dataset, batch_size=1, shuffle=True)\n",
    "\n",
    "# 5. Tấn công mẫu đầu tiên\n",
    "epsilon = 0.1  # Mức độ nhiễu\n",
    "criterion = nn.CrossEntropyLoss()\n",
    "\n",
    "\n",
    "dqn = DQN_Conv(28*28, 14*14)\n",
    "dqn.load_state_dict(torch.load('model_0_trenvong_2.pth'))\n",
    "dqn.eval().to(device)\n"
   ]
  },
  {
   "cell_type": "code",
   "execution_count": 9,
   "metadata": {},
   "outputs": [
    {
     "name": "stderr",
     "output_type": "stream",
     "text": [
      "  0%|          | 4/60000 [00:00<55:37, 17.98it/s]"
     ]
    },
    {
     "name": "stdout",
     "output_type": "stream",
     "text": [
      "Distance: 1.9999998807907104\n",
      "Accuracy: 1.0\n",
      "Distance: 2.0\n",
      "Accuracy: 1.0\n",
      "Distance: 2.000000238418579\n",
      "Accuracy: 0.6666666666666666\n",
      "Distance: 1.9999998807907104\n",
      "Accuracy: 0.5\n"
     ]
    },
    {
     "name": "stderr",
     "output_type": "stream",
     "text": [
      "  0%|          | 9/60000 [00:00<45:32, 21.96it/s]"
     ]
    },
    {
     "name": "stdout",
     "output_type": "stream",
     "text": [
      "Distance: 2.0\n",
      "Accuracy: 0.6\n",
      "Distance: 2.0\n",
      "Accuracy: 0.6666666666666666\n",
      "Distance: 2.0\n",
      "Accuracy: 0.7142857142857143\n",
      "Distance: 2.0\n",
      "Accuracy: 0.75\n",
      "Distance: 2.0\n",
      "Accuracy: 0.6666666666666666\n"
     ]
    },
    {
     "name": "stderr",
     "output_type": "stream",
     "text": [
      "  0%|          | 12/60000 [00:00<41:53, 23.87it/s]"
     ]
    },
    {
     "name": "stdout",
     "output_type": "stream",
     "text": [
      "Distance: 2.0\n",
      "Accuracy: 0.6\n",
      "Distance: 1.999999761581421\n",
      "Accuracy: 0.5454545454545454\n",
      "Distance: 2.0\n",
      "Accuracy: 0.5833333333333334\n",
      "Distance: 2.0\n",
      "Accuracy: 0.6153846153846154\n",
      "Distance: 2.0\n",
      "Accuracy: 0.6428571428571429\n",
      "Distance: 2.000000238418579\n",
      "Accuracy: 0.6\n"
     ]
    },
    {
     "name": "stderr",
     "output_type": "stream",
     "text": [
      "  0%|          | 18/60000 [00:00<39:19, 25.42it/s]"
     ]
    },
    {
     "name": "stdout",
     "output_type": "stream",
     "text": [
      "Distance: 2.0\n",
      "Accuracy: 0.625\n",
      "Distance: 2.0\n",
      "Accuracy: 0.5882352941176471\n",
      "Distance: 2.0\n",
      "Accuracy: 0.6111111111111112\n",
      "Distance: 2.0\n",
      "Accuracy: 0.631578947368421\n",
      "Distance: 2.0\n",
      "Accuracy: 0.65\n"
     ]
    },
    {
     "name": "stderr",
     "output_type": "stream",
     "text": [
      "  0%|          | 24/60000 [00:01<39:58, 25.00it/s]"
     ]
    },
    {
     "name": "stdout",
     "output_type": "stream",
     "text": [
      "Distance: 2.0\n",
      "Accuracy: 0.6666666666666666\n",
      "Distance: 2.0\n",
      "Accuracy: 0.6363636363636364\n",
      "Distance: 1.9999998807907104\n",
      "Accuracy: 0.6086956521739131\n",
      "Distance: 1.9999998807907104\n",
      "Accuracy: 0.625\n",
      "Distance: 1.999999761581421\n",
      "Accuracy: 0.64\n",
      "Distance: 1.9999998807907104\n",
      "Accuracy: 0.6153846153846154\n"
     ]
    },
    {
     "name": "stderr",
     "output_type": "stream",
     "text": [
      "  0%|          | 30/60000 [00:01<38:31, 25.94it/s]"
     ]
    },
    {
     "name": "stdout",
     "output_type": "stream",
     "text": [
      "Distance: 2.0\n",
      "Accuracy: 0.6296296296296297\n",
      "Distance: 1.9999998807907104\n",
      "Accuracy: 0.6428571428571429\n",
      "Distance: 2.0\n",
      "Accuracy: 0.6551724137931034\n",
      "Distance: 2.0\n",
      "Accuracy: 0.6666666666666666\n",
      "Distance: 1.9999998807907104\n",
      "Accuracy: 0.6774193548387096\n",
      "Distance: 1.9999998807907104\n",
      "Accuracy: 0.6875\n"
     ]
    },
    {
     "name": "stderr",
     "output_type": "stream",
     "text": [
      "  0%|          | 36/60000 [00:01<37:54, 26.37it/s]"
     ]
    },
    {
     "name": "stdout",
     "output_type": "stream",
     "text": [
      "Distance: 2.0\n",
      "Accuracy: 0.696969696969697\n",
      "Distance: 2.0\n",
      "Accuracy: 0.7058823529411765\n",
      "Distance: 2.0\n",
      "Accuracy: 0.7142857142857143\n",
      "Distance: 2.0\n",
      "Accuracy: 0.7222222222222222\n",
      "Distance: 2.0\n",
      "Accuracy: 0.7297297297297297\n",
      "Distance: 2.0\n",
      "Accuracy: 0.7368421052631579\n"
     ]
    },
    {
     "name": "stderr",
     "output_type": "stream",
     "text": [
      "  0%|          | 42/60000 [00:01<39:08, 25.53it/s]"
     ]
    },
    {
     "name": "stdout",
     "output_type": "stream",
     "text": [
      "Distance: 2.0\n",
      "Accuracy: 0.717948717948718\n",
      "Distance: 2.0\n",
      "Accuracy: 0.725\n",
      "Distance: 2.0\n",
      "Accuracy: 0.7073170731707317\n",
      "Distance: 2.0\n",
      "Accuracy: 0.7142857142857143\n",
      "Distance: 1.9999998807907104\n",
      "Accuracy: 0.7209302325581395\n"
     ]
    },
    {
     "name": "stderr",
     "output_type": "stream",
     "text": [
      "  0%|          | 48/60000 [00:01<39:46, 25.12it/s]"
     ]
    },
    {
     "name": "stdout",
     "output_type": "stream",
     "text": [
      "Distance: 2.0\n",
      "Accuracy: 0.7272727272727273\n",
      "Distance: 2.0\n",
      "Accuracy: 0.7333333333333333\n",
      "Distance: 2.0\n",
      "Accuracy: 0.7391304347826086\n",
      "Distance: 2.000000238418579\n",
      "Accuracy: 0.7446808510638298\n",
      "Distance: 2.000000238418579\n",
      "Accuracy: 0.7291666666666666\n",
      "Distance: 2.0\n",
      "Accuracy: 0.7346938775510204\n"
     ]
    },
    {
     "name": "stderr",
     "output_type": "stream",
     "text": [
      "  0%|          | 54/60000 [00:02<38:31, 25.93it/s]"
     ]
    },
    {
     "name": "stdout",
     "output_type": "stream",
     "text": [
      "Distance: 1.999999761581421\n",
      "Accuracy: 0.74\n",
      "Distance: 2.0\n",
      "Accuracy: 0.7254901960784313\n",
      "Distance: 2.0\n",
      "Accuracy: 0.7115384615384616\n",
      "Distance: 1.9999998807907104\n",
      "Accuracy: 0.7169811320754716\n",
      "Distance: 1.999999761581421\n",
      "Accuracy: 0.7222222222222222\n",
      "Distance: 1.9999998807907104\n",
      "Accuracy: 0.7272727272727273\n"
     ]
    },
    {
     "name": "stderr",
     "output_type": "stream",
     "text": [
      "  0%|          | 60/60000 [00:02<38:12, 26.15it/s]"
     ]
    },
    {
     "name": "stdout",
     "output_type": "stream",
     "text": [
      "Distance: 2.0\n",
      "Accuracy: 0.7321428571428571\n",
      "Distance: 2.0\n",
      "Accuracy: 0.7368421052631579\n",
      "Distance: 2.0\n",
      "Accuracy: 0.7413793103448276\n",
      "Distance: 1.9999998807907104\n",
      "Accuracy: 0.7457627118644068\n",
      "Distance: 2.0\n",
      "Accuracy: 0.75\n",
      "Distance: 1.999999761581421\n",
      "Accuracy: 0.7540983606557377\n",
      "Distance: 2.0\n",
      "Accuracy: 0.7580645161290323\n"
     ]
    },
    {
     "name": "stderr",
     "output_type": "stream",
     "text": [
      "  0%|          | 66/60000 [00:02<37:10, 26.87it/s]"
     ]
    },
    {
     "name": "stdout",
     "output_type": "stream",
     "text": [
      "Distance: 2.0\n",
      "Accuracy: 0.7619047619047619\n",
      "Distance: 2.0\n",
      "Accuracy: 0.765625\n",
      "Distance: 1.9999998807907104\n",
      "Accuracy: 0.7692307692307693\n",
      "Distance: 1.999999761581421\n",
      "Accuracy: 0.7727272727272727\n",
      "Distance: 2.0\n",
      "Accuracy: 0.7761194029850746\n",
      "Distance: 2.0\n",
      "Accuracy: 0.7794117647058824\n"
     ]
    },
    {
     "name": "stderr",
     "output_type": "stream",
     "text": [
      "  0%|          | 72/60000 [00:02<36:10, 27.61it/s]"
     ]
    },
    {
     "name": "stdout",
     "output_type": "stream",
     "text": [
      "Distance: 2.0\n",
      "Accuracy: 0.782608695652174\n",
      "Distance: 1.9999998807907104\n",
      "Accuracy: 0.7857142857142857\n",
      "Distance: 1.999999761581421\n",
      "Accuracy: 0.7887323943661971\n",
      "Distance: 2.0\n",
      "Accuracy: 0.7916666666666666\n",
      "Distance: 1.9999998807907104\n",
      "Accuracy: 0.7945205479452054\n",
      "Distance: 2.0\n",
      "Accuracy: 0.7972972972972973\n"
     ]
    },
    {
     "name": "stderr",
     "output_type": "stream",
     "text": [
      "  0%|          | 78/60000 [00:03<35:43, 27.96it/s]"
     ]
    },
    {
     "name": "stdout",
     "output_type": "stream",
     "text": [
      "Distance: 1.9999998807907104\n",
      "Accuracy: 0.7866666666666666\n",
      "Distance: 1.9999998807907104\n",
      "Accuracy: 0.7894736842105263\n",
      "Distance: 2.0\n",
      "Accuracy: 0.7922077922077922\n",
      "Distance: 1.9999998807907104\n",
      "Accuracy: 0.7948717948717948\n",
      "Distance: 2.0\n",
      "Accuracy: 0.7974683544303798\n",
      "Distance: 2.0\n",
      "Accuracy: 0.8\n"
     ]
    },
    {
     "name": "stderr",
     "output_type": "stream",
     "text": [
      "  0%|          | 84/60000 [00:03<35:21, 28.24it/s]"
     ]
    },
    {
     "name": "stdout",
     "output_type": "stream",
     "text": [
      "Distance: 1.9999998807907104\n",
      "Accuracy: 0.8024691358024691\n",
      "Distance: 2.0\n",
      "Accuracy: 0.8048780487804879\n",
      "Distance: 2.0\n",
      "Accuracy: 0.8072289156626506\n",
      "Distance: 2.0\n",
      "Accuracy: 0.8095238095238095\n",
      "Distance: nan\n",
      "Accuracy: 0.8\n",
      "Distance: 2.0\n",
      "Accuracy: 0.7906976744186046\n"
     ]
    },
    {
     "name": "stderr",
     "output_type": "stream",
     "text": [
      "  0%|          | 90/60000 [00:03<35:11, 28.37it/s]"
     ]
    },
    {
     "name": "stdout",
     "output_type": "stream",
     "text": [
      "Distance: 2.000000238418579\n",
      "Accuracy: 0.7931034482758621\n",
      "Distance: 2.0\n",
      "Accuracy: 0.7954545454545454\n",
      "Distance: 2.0\n",
      "Accuracy: 0.7865168539325843\n",
      "Distance: 2.0\n",
      "Accuracy: 0.7888888888888889\n",
      "Distance: 1.9999998807907104\n",
      "Accuracy: 0.7912087912087912\n",
      "Distance: 2.0\n",
      "Accuracy: 0.7934782608695652\n",
      "Distance: 1.9999998807907104\n"
     ]
    },
    {
     "name": "stderr",
     "output_type": "stream",
     "text": [
      "  0%|          | 98/60000 [00:03<34:24, 29.01it/s]"
     ]
    },
    {
     "name": "stdout",
     "output_type": "stream",
     "text": [
      "Accuracy: 0.7849462365591398\n",
      "Distance: 1.9999998807907104\n",
      "Accuracy: 0.7872340425531915\n",
      "Distance: 2.0\n",
      "Accuracy: 0.7894736842105263\n",
      "Distance: 2.0\n",
      "Accuracy: 0.7916666666666666\n",
      "Distance: 2.0\n",
      "Accuracy: 0.7938144329896907\n",
      "Distance: 2.0\n",
      "Accuracy: 0.7959183673469388\n",
      "Distance: 2.0\n",
      "Accuracy: 0.797979797979798\n"
     ]
    },
    {
     "name": "stderr",
     "output_type": "stream",
     "text": [
      "  0%|          | 102/60000 [00:03<33:51, 29.48it/s]"
     ]
    },
    {
     "name": "stdout",
     "output_type": "stream",
     "text": [
      "Distance: 2.0\n",
      "Accuracy: 0.8\n",
      "Distance: 2.0\n",
      "Accuracy: 0.801980198019802\n",
      "Distance: 2.0\n",
      "Accuracy: 0.7941176470588235\n",
      "Distance: 2.0\n",
      "Accuracy: 0.7961165048543689\n",
      "Distance: 2.0\n",
      "Accuracy: 0.7980769230769231\n",
      "Distance: 2.0\n",
      "Accuracy: 0.8\n"
     ]
    },
    {
     "name": "stderr",
     "output_type": "stream",
     "text": [
      "  0%|          | 111/60000 [00:04<34:31, 28.92it/s]"
     ]
    },
    {
     "name": "stdout",
     "output_type": "stream",
     "text": [
      "Distance: 2.0\n",
      "Accuracy: 0.7924528301886793\n",
      "Distance: 2.0\n",
      "Accuracy: 0.794392523364486\n",
      "Distance: 1.9999998807907104\n",
      "Accuracy: 0.7962962962962963\n",
      "Distance: 2.0\n",
      "Accuracy: 0.7981651376146789\n",
      "Distance: 2.0\n",
      "Accuracy: 0.8\n",
      "Distance: 2.0\n",
      "Accuracy: 0.8018018018018018\n",
      "Distance: 1.9999998807907104\n",
      "Accuracy: 0.7946428571428571\n"
     ]
    },
    {
     "name": "stderr",
     "output_type": "stream",
     "text": [
      "  0%|          | 118/60000 [00:04<33:30, 29.78it/s]"
     ]
    },
    {
     "name": "stdout",
     "output_type": "stream",
     "text": [
      "Distance: 2.0\n",
      "Accuracy: 0.7964601769911505\n",
      "Distance: 1.9999998807907104\n",
      "Accuracy: 0.7982456140350878\n",
      "Distance: 2.0\n",
      "Accuracy: 0.8\n",
      "Distance: 1.9999998807907104\n",
      "Accuracy: 0.8017241379310345\n",
      "Distance: 2.0\n",
      "Accuracy: 0.8034188034188035\n",
      "Distance: 2.0\n",
      "Accuracy: 0.7966101694915254\n",
      "Distance: 2.0\n",
      "Accuracy: 0.7899159663865546\n"
     ]
    },
    {
     "name": "stderr",
     "output_type": "stream",
     "text": [
      "  0%|          | 122/60000 [00:04<32:46, 30.46it/s]"
     ]
    },
    {
     "name": "stdout",
     "output_type": "stream",
     "text": [
      "Distance: 1.9999998807907104\n",
      "Accuracy: 0.7916666666666666\n",
      "Distance: 2.0\n",
      "Accuracy: 0.7933884297520661\n",
      "Distance: 1.999999761581421\n",
      "Accuracy: 0.7950819672131147\n",
      "Distance: 1.9999998807907104\n",
      "Accuracy: 0.7967479674796748\n",
      "Distance: 1.9999998807907104\n",
      "Accuracy: 0.7903225806451613\n",
      "Distance: 2.0\n",
      "Accuracy: 0.792\n",
      "Distance: 2.0\n",
      "Accuracy: 0.7857142857142857\n"
     ]
    },
    {
     "name": "stderr",
     "output_type": "stream",
     "text": [
      "  0%|          | 130/60000 [00:04<33:38, 29.66it/s]"
     ]
    },
    {
     "name": "stdout",
     "output_type": "stream",
     "text": [
      "Distance: 2.000000238418579\n",
      "Accuracy: 0.7874015748031497\n",
      "Distance: 2.0\n",
      "Accuracy: 0.7890625\n",
      "Distance: 1.9999998807907104\n",
      "Accuracy: 0.7906976744186046\n",
      "Distance: 2.0\n",
      "Accuracy: 0.7846153846153846\n",
      "Distance: 1.9999998807907104\n",
      "Accuracy: 0.7862595419847328\n",
      "Distance: 2.0\n",
      "Accuracy: 0.7878787878787878\n"
     ]
    },
    {
     "name": "stderr",
     "output_type": "stream",
     "text": [
      "  0%|          | 138/60000 [00:05<32:29, 30.71it/s]"
     ]
    },
    {
     "name": "stdout",
     "output_type": "stream",
     "text": [
      "Distance: 1.9999998807907104\n",
      "Accuracy: 0.7894736842105263\n",
      "Distance: 2.0\n",
      "Accuracy: 0.7835820895522388\n",
      "Distance: 1.9999998807907104\n",
      "Accuracy: 0.7851851851851852\n",
      "Distance: 2.0\n",
      "Accuracy: 0.7867647058823529\n",
      "Distance: 1.9999998807907104\n",
      "Accuracy: 0.7883211678832117\n",
      "Distance: 2.0\n",
      "Accuracy: 0.7898550724637681\n",
      "Distance: 2.0\n",
      "Accuracy: 0.7913669064748201\n"
     ]
    },
    {
     "name": "stderr",
     "output_type": "stream",
     "text": [
      "  0%|          | 142/60000 [00:05<32:04, 31.11it/s]"
     ]
    },
    {
     "name": "stdout",
     "output_type": "stream",
     "text": [
      "Distance: 1.9999998807907104\n",
      "Accuracy: 0.7928571428571428\n",
      "Distance: nan\n",
      "Accuracy: 0.7872340425531915\n",
      "Distance: 2.0\n",
      "Accuracy: 0.7887323943661971\n",
      "Distance: 2.0\n",
      "Accuracy: 0.7832167832167832\n",
      "Distance: 1.9999998807907104\n",
      "Accuracy: 0.7777777777777778\n",
      "Distance: 2.0\n",
      "Accuracy: 0.7793103448275862\n",
      "Distance: 2.0\n",
      "Accuracy: 0.7808219178082192\n"
     ]
    },
    {
     "name": "stderr",
     "output_type": "stream",
     "text": [
      "  0%|          | 150/60000 [00:05<32:29, 30.69it/s]"
     ]
    },
    {
     "name": "stdout",
     "output_type": "stream",
     "text": [
      "Distance: 2.0\n",
      "Accuracy: 0.782312925170068\n",
      "Distance: 1.9999998807907104\n",
      "Accuracy: 0.7837837837837838\n",
      "Distance: 2.000000238418579\n",
      "Accuracy: 0.785234899328859\n",
      "Distance: 1.9999998807907104\n",
      "Accuracy: 0.7866666666666666\n",
      "Distance: 2.0\n",
      "Accuracy: 0.7880794701986755\n",
      "Distance: 2.0\n",
      "Accuracy: 0.7894736842105263\n"
     ]
    },
    {
     "name": "stderr",
     "output_type": "stream",
     "text": [
      "  0%|          | 158/60000 [00:05<32:09, 31.01it/s]"
     ]
    },
    {
     "name": "stdout",
     "output_type": "stream",
     "text": [
      "Distance: 2.000000238418579\n",
      "Accuracy: 0.7908496732026143\n",
      "Distance: 1.9999998807907104\n",
      "Accuracy: 0.7922077922077922\n",
      "Distance: 1.9999998807907104\n",
      "Accuracy: 0.7935483870967742\n",
      "Distance: 2.000000238418579\n",
      "Accuracy: 0.7948717948717948\n",
      "Distance: 1.9999998807907104\n",
      "Accuracy: 0.7961783439490446\n",
      "Distance: 1.9999998807907104\n",
      "Accuracy: 0.7974683544303798\n",
      "Distance: 1.999999761581421\n",
      "Accuracy: 0.7987421383647799\n"
     ]
    },
    {
     "name": "stderr",
     "output_type": "stream",
     "text": [
      "  0%|          | 162/60000 [00:05<33:18, 29.94it/s]"
     ]
    },
    {
     "name": "stdout",
     "output_type": "stream",
     "text": [
      "Distance: 2.0\n",
      "Accuracy: 0.8\n",
      "Distance: 1.9999998807907104\n",
      "Accuracy: 0.8012422360248447\n",
      "Distance: 2.0\n",
      "Accuracy: 0.8024691358024691\n",
      "Distance: 2.0\n",
      "Accuracy: 0.803680981595092\n",
      "Distance: 1.9999998807907104\n",
      "Accuracy: 0.8048780487804879\n",
      "Distance: 1.999999761581421\n",
      "Accuracy: 0.806060606060606\n",
      "Distance: 2.0\n",
      "Accuracy: 0.8012048192771084\n"
     ]
    },
    {
     "name": "stderr",
     "output_type": "stream",
     "text": [
      "  0%|          | 170/60000 [00:06<32:18, 30.86it/s]"
     ]
    },
    {
     "name": "stdout",
     "output_type": "stream",
     "text": [
      "Distance: 2.0\n",
      "Accuracy: 0.8023952095808383\n",
      "Distance: 1.9999998807907104\n",
      "Accuracy: 0.8035714285714286\n",
      "Distance: 2.0\n",
      "Accuracy: 0.8047337278106509\n",
      "Distance: 1.9999998807907104\n",
      "Accuracy: 0.8058823529411765\n",
      "Distance: 1.999999761581421\n",
      "Accuracy: 0.8070175438596491\n",
      "Distance: 2.0\n",
      "Accuracy: 0.8081395348837209\n",
      "Distance: 2.0\n",
      "Accuracy: 0.8034682080924855\n"
     ]
    },
    {
     "name": "stderr",
     "output_type": "stream",
     "text": [
      "  0%|          | 178/60000 [00:06<34:35, 28.83it/s]"
     ]
    },
    {
     "name": "stdout",
     "output_type": "stream",
     "text": [
      "Distance: 2.0\n",
      "Accuracy: 0.7988505747126436\n",
      "Distance: 2.0\n",
      "Accuracy: 0.8\n",
      "Distance: 2.0\n",
      "Accuracy: 0.7954545454545454\n",
      "Distance: 2.0\n",
      "Accuracy: 0.7966101694915254\n",
      "Distance: 2.0\n",
      "Accuracy: 0.7921348314606742\n",
      "Distance: 2.0\n",
      "Accuracy: 0.7932960893854749\n"
     ]
    },
    {
     "name": "stderr",
     "output_type": "stream",
     "text": [
      "  0%|          | 185/60000 [00:06<33:42, 29.57it/s]"
     ]
    },
    {
     "name": "stdout",
     "output_type": "stream",
     "text": [
      "Distance: 2.0\n",
      "Accuracy: 0.7944444444444444\n",
      "Distance: 2.0\n",
      "Accuracy: 0.7900552486187845\n",
      "Distance: 1.9999998807907104\n",
      "Accuracy: 0.7912087912087912\n",
      "Distance: 2.0\n",
      "Accuracy: 0.7923497267759563\n",
      "Distance: 2.0\n",
      "Accuracy: 0.7880434782608695\n",
      "Distance: 2.0\n",
      "Accuracy: 0.7891891891891892\n",
      "Distance: 2.0\n",
      "Accuracy: 0.7903225806451613\n"
     ]
    },
    {
     "name": "stderr",
     "output_type": "stream",
     "text": [
      "  0%|          | 192/60000 [00:06<33:36, 29.66it/s]"
     ]
    },
    {
     "name": "stdout",
     "output_type": "stream",
     "text": [
      "Distance: 2.0\n",
      "Accuracy: 0.786096256684492\n",
      "Distance: 2.0\n",
      "Accuracy: 0.7872340425531915\n",
      "Distance: 2.0\n",
      "Accuracy: 0.7883597883597884\n",
      "Distance: nan\n",
      "Accuracy: 0.7842105263157895\n",
      "Distance: 2.0\n",
      "Accuracy: 0.7853403141361257\n",
      "Distance: 2.0\n",
      "Accuracy: 0.7864583333333334\n",
      "Distance: 2.0\n",
      "Accuracy: 0.7875647668393783\n"
     ]
    },
    {
     "name": "stderr",
     "output_type": "stream",
     "text": [
      "  0%|          | 198/60000 [00:07<33:37, 29.64it/s]"
     ]
    },
    {
     "name": "stdout",
     "output_type": "stream",
     "text": [
      "Distance: 2.0\n",
      "Accuracy: 0.788659793814433\n",
      "Distance: 2.0\n",
      "Accuracy: 0.7897435897435897\n",
      "Distance: 2.0\n",
      "Accuracy: 0.7908163265306123\n",
      "Distance: 1.9999998807907104\n",
      "Accuracy: 0.7918781725888325\n",
      "Distance: 2.0\n",
      "Accuracy: 0.7878787878787878\n",
      "Distance: 1.9999998807907104\n",
      "Accuracy: 0.7889447236180904\n",
      "Distance: 2.0\n",
      "Accuracy: 0.79\n"
     ]
    },
    {
     "name": "stderr",
     "output_type": "stream",
     "text": [
      "  0%|          | 206/60000 [00:07<31:59, 31.15it/s]"
     ]
    },
    {
     "name": "stdout",
     "output_type": "stream",
     "text": [
      "Distance: nan\n",
      "Accuracy: 0.7860696517412935\n",
      "Distance: 1.9999998807907104\n",
      "Accuracy: 0.7871287128712872\n",
      "Distance: 2.0\n",
      "Accuracy: 0.7881773399014779\n",
      "Distance: 2.0\n",
      "Accuracy: 0.7843137254901961\n",
      "Distance: 2.0\n",
      "Accuracy: 0.7853658536585366\n",
      "Distance: 1.9999998807907104\n",
      "Accuracy: 0.7864077669902912\n",
      "Distance: 1.9999998807907104\n",
      "Accuracy: 0.782608695652174\n"
     ]
    },
    {
     "name": "stderr",
     "output_type": "stream",
     "text": [
      "  0%|          | 210/60000 [00:07<31:28, 31.66it/s]"
     ]
    },
    {
     "name": "stdout",
     "output_type": "stream",
     "text": [
      "Distance: 1.9999998807907104\n",
      "Accuracy: 0.7836538461538461\n",
      "Distance: 2.0\n",
      "Accuracy: 0.784688995215311\n",
      "Distance: 1.999999761581421\n",
      "Accuracy: 0.7857142857142857\n",
      "Distance: nan\n",
      "Accuracy: 0.7819905213270142\n",
      "Distance: 2.0\n",
      "Accuracy: 0.7830188679245284\n",
      "Distance: 1.9999998807907104\n",
      "Accuracy: 0.784037558685446\n",
      "Distance: 2.000000238418579\n",
      "Accuracy: 0.7850467289719626\n"
     ]
    },
    {
     "name": "stderr",
     "output_type": "stream",
     "text": [
      "  0%|          | 218/60000 [00:07<32:04, 31.06it/s]"
     ]
    },
    {
     "name": "stdout",
     "output_type": "stream",
     "text": [
      "Distance: 2.0\n",
      "Accuracy: 0.786046511627907\n",
      "Distance: 2.0\n",
      "Accuracy: 0.7870370370370371\n",
      "Distance: 2.0\n",
      "Accuracy: 0.7880184331797235\n",
      "Distance: 2.0\n",
      "Accuracy: 0.7889908256880734\n",
      "Distance: 2.0\n",
      "Accuracy: 0.7899543378995434\n",
      "Distance: 2.0\n",
      "Accuracy: 0.7863636363636364\n",
      "Distance: 2.000000238418579\n",
      "Accuracy: 0.7873303167420814\n",
      "Distance: 2.0\n"
     ]
    },
    {
     "name": "stderr",
     "output_type": "stream",
     "text": [
      "  0%|          | 226/60000 [00:07<31:47, 31.34it/s]"
     ]
    },
    {
     "name": "stdout",
     "output_type": "stream",
     "text": [
      "Accuracy: 0.7882882882882883\n",
      "Distance: 2.0\n",
      "Accuracy: 0.7847533632286996\n",
      "Distance: 2.0\n",
      "Accuracy: 0.7857142857142857\n",
      "Distance: 2.0\n",
      "Accuracy: 0.7822222222222223\n",
      "Distance: 2.0\n",
      "Accuracy: 0.7831858407079646\n",
      "Distance: nan\n",
      "Accuracy: 0.7797356828193832\n",
      "Distance: 1.999999761581421\n",
      "Accuracy: 0.7807017543859649\n"
     ]
    },
    {
     "name": "stderr",
     "output_type": "stream",
     "text": [
      "  0%|          | 234/60000 [00:08<32:06, 31.03it/s]"
     ]
    },
    {
     "name": "stdout",
     "output_type": "stream",
     "text": [
      "Distance: 1.9999998807907104\n",
      "Accuracy: 0.7816593886462883\n",
      "Distance: 2.0\n",
      "Accuracy: 0.782608695652174\n",
      "Distance: 2.0\n",
      "Accuracy: 0.7835497835497836\n",
      "Distance: 2.0\n",
      "Accuracy: 0.7844827586206896\n",
      "Distance: 1.9999998807907104\n",
      "Accuracy: 0.7854077253218884\n",
      "Distance: 2.000000238418579\n",
      "Accuracy: 0.782051282051282\n",
      "Distance: 1.9999998807907104\n",
      "Accuracy: 0.7829787234042553\n"
     ]
    },
    {
     "name": "stderr",
     "output_type": "stream",
     "text": [
      "  0%|          | 242/60000 [00:08<32:09, 30.97it/s]"
     ]
    },
    {
     "name": "stdout",
     "output_type": "stream",
     "text": [
      "Distance: 1.999999761581421\n",
      "Accuracy: 0.7838983050847458\n",
      "Distance: 2.0\n",
      "Accuracy: 0.7848101265822784\n",
      "Distance: 1.9999998807907104\n",
      "Accuracy: 0.7815126050420168\n",
      "Distance: 1.999999761581421\n",
      "Accuracy: 0.7824267782426778\n",
      "Distance: 2.0\n",
      "Accuracy: 0.7833333333333333\n",
      "Distance: 2.0\n",
      "Accuracy: 0.7800829875518672\n",
      "Distance: 1.9999998807907104\n",
      "Accuracy: 0.78099173553719\n"
     ]
    },
    {
     "name": "stderr",
     "output_type": "stream",
     "text": [
      "  0%|          | 246/60000 [00:08<32:53, 30.28it/s]"
     ]
    },
    {
     "name": "stdout",
     "output_type": "stream",
     "text": [
      "Distance: 1.9999998807907104\n",
      "Accuracy: 0.7818930041152263\n",
      "Distance: 2.0\n",
      "Accuracy: 0.7827868852459017\n",
      "Distance: 2.0\n",
      "Accuracy: 0.7836734693877551\n",
      "Distance: 2.0\n",
      "Accuracy: 0.7845528455284553\n",
      "Distance: 1.9999998807907104\n",
      "Accuracy: 0.7854251012145749\n",
      "Distance: 1.9999998807907104\n",
      "Accuracy: 0.782258064516129\n",
      "Distance: 2.0\n"
     ]
    },
    {
     "name": "stderr",
     "output_type": "stream",
     "text": [
      "  0%|          | 254/60000 [00:08<32:58, 30.20it/s]"
     ]
    },
    {
     "name": "stdout",
     "output_type": "stream",
     "text": [
      "Accuracy: 0.7831325301204819\n",
      "Distance: 2.0\n",
      "Accuracy: 0.784\n",
      "Distance: 1.9999998807907104\n",
      "Accuracy: 0.7848605577689243\n",
      "Distance: 2.0\n",
      "Accuracy: 0.7857142857142857\n",
      "Distance: 2.0\n",
      "Accuracy: 0.782608695652174\n",
      "Distance: 1.9999998807907104\n",
      "Accuracy: 0.7834645669291339\n",
      "Distance: 1.9999998807907104\n",
      "Accuracy: 0.7843137254901961\n"
     ]
    },
    {
     "name": "stderr",
     "output_type": "stream",
     "text": [
      "  0%|          | 258/60000 [00:08<32:14, 30.88it/s]"
     ]
    },
    {
     "name": "stdout",
     "output_type": "stream",
     "text": [
      "Distance: 2.0\n",
      "Accuracy: 0.78515625\n",
      "Distance: 2.0\n",
      "Accuracy: 0.7821011673151751\n",
      "Distance: 2.0\n",
      "Accuracy: 0.7829457364341085\n",
      "Distance: 1.9999998807907104\n",
      "Accuracy: 0.7837837837837838\n",
      "Distance: 1.9999998807907104\n",
      "Accuracy: 0.7846153846153846\n",
      "Distance: 2.0\n",
      "Accuracy: 0.7816091954022989\n",
      "Distance: 2.0\n",
      "Accuracy: 0.7824427480916031\n"
     ]
    },
    {
     "name": "stderr",
     "output_type": "stream",
     "text": [
      "  0%|          | 266/60000 [00:09<31:10, 31.94it/s]"
     ]
    },
    {
     "name": "stdout",
     "output_type": "stream",
     "text": [
      "Distance: 2.0\n",
      "Accuracy: 0.779467680608365\n",
      "Distance: 2.0\n",
      "Accuracy: 0.7803030303030303\n",
      "Distance: 2.0\n",
      "Accuracy: 0.7811320754716982\n",
      "Distance: 2.0\n",
      "Accuracy: 0.7819548872180451\n",
      "Distance: 2.0\n",
      "Accuracy: 0.7827715355805244\n",
      "Distance: 2.0\n",
      "Accuracy: 0.7835820895522388\n",
      "Distance: 1.9999998807907104\n",
      "Accuracy: 0.7806691449814126\n",
      "Distance: 2.0\n",
      "Accuracy: 0.7814814814814814\n"
     ]
    },
    {
     "name": "stderr",
     "output_type": "stream",
     "text": [
      "  0%|          | 275/60000 [00:09<26:56, 36.95it/s]"
     ]
    },
    {
     "name": "stdout",
     "output_type": "stream",
     "text": [
      "Distance: 1.9999998807907104\n",
      "Accuracy: 0.7822878228782287\n",
      "Distance: 1.999999761581421\n",
      "Accuracy: 0.7830882352941176\n",
      "Distance: 2.0\n",
      "Accuracy: 0.7838827838827839\n",
      "Distance: 1.9999998807907104\n",
      "Accuracy: 0.7846715328467153\n",
      "Distance: 1.9999998807907104\n",
      "Accuracy: 0.7854545454545454\n",
      "Distance: 2.0\n",
      "Accuracy: 0.7862318840579711\n",
      "Distance: 2.0\n",
      "Accuracy: 0.7870036101083032\n",
      "Distance: 1.9999998807907104\n",
      "Accuracy: 0.7841726618705036\n",
      "Distance: 2.0\n",
      "Accuracy: 0.7849462365591398\n",
      "Distance: 2.0\n",
      "Accuracy: 0.7857142857142857\n"
     ]
    },
    {
     "name": "stderr",
     "output_type": "stream",
     "text": [
      "  0%|          | 289/60000 [00:09<23:54, 41.62it/s]"
     ]
    },
    {
     "name": "stdout",
     "output_type": "stream",
     "text": [
      "Distance: 2.0\n",
      "Accuracy: 0.7864768683274022\n",
      "Distance: 1.9999998807907104\n",
      "Accuracy: 0.7872340425531915\n",
      "Distance: 2.0\n",
      "Accuracy: 0.7879858657243817\n",
      "Distance: 1.9999998807907104\n",
      "Accuracy: 0.7887323943661971\n",
      "Distance: nan\n",
      "Accuracy: 0.7859649122807018\n",
      "Distance: 1.9999998807907104\n",
      "Accuracy: 0.7867132867132867\n",
      "Distance: 1.9999998807907104\n",
      "Accuracy: 0.7874564459930313\n",
      "Distance: 2.0\n",
      "Accuracy: 0.7881944444444444\n",
      "Distance: 1.9999998807907104\n",
      "Accuracy: 0.7889273356401384\n",
      "Distance: 2.0\n",
      "Accuracy: 0.7862068965517242\n"
     ]
    },
    {
     "name": "stderr",
     "output_type": "stream",
     "text": [
      "  0%|          | 299/60000 [00:09<22:55, 43.42it/s]"
     ]
    },
    {
     "name": "stdout",
     "output_type": "stream",
     "text": [
      "Distance: 2.0\n",
      "Accuracy: 0.7869415807560137\n",
      "Distance: 2.0\n",
      "Accuracy: 0.7876712328767124\n",
      "Distance: 2.0\n",
      "Accuracy: 0.78839590443686\n",
      "Distance: 2.0\n",
      "Accuracy: 0.7857142857142857\n",
      "Distance: 2.0\n",
      "Accuracy: 0.7864406779661017\n",
      "Distance: 2.0\n",
      "Accuracy: 0.7871621621621622\n",
      "Distance: 2.0\n",
      "Accuracy: 0.7878787878787878\n",
      "Distance: 2.0\n",
      "Accuracy: 0.7885906040268457\n",
      "Distance: 2.0\n",
      "Accuracy: 0.7892976588628763\n",
      "Distance: 2.0\n",
      "Accuracy: 0.79\n"
     ]
    },
    {
     "name": "stderr",
     "output_type": "stream",
     "text": [
      "  1%|          | 309/60000 [00:10<22:10, 44.86it/s]"
     ]
    },
    {
     "name": "stdout",
     "output_type": "stream",
     "text": [
      "Distance: 1.9999998807907104\n",
      "Accuracy: 0.7906976744186046\n",
      "Distance: 2.0\n",
      "Accuracy: 0.7880794701986755\n",
      "Distance: 2.0\n",
      "Accuracy: 0.7854785478547854\n",
      "Distance: 2.0\n",
      "Accuracy: 0.7828947368421053\n",
      "Distance: 1.9999998807907104\n",
      "Accuracy: 0.7836065573770492\n",
      "Distance: 2.0\n",
      "Accuracy: 0.7843137254901961\n",
      "Distance: 1.999999761581421\n",
      "Accuracy: 0.7817589576547231\n",
      "Distance: 2.0\n",
      "Accuracy: 0.7824675324675324\n",
      "Distance: 2.0\n",
      "Accuracy: 0.7831715210355987\n"
     ]
    },
    {
     "name": "stderr",
     "output_type": "stream",
     "text": [
      "  1%|          | 314/60000 [00:10<22:34, 44.07it/s]"
     ]
    },
    {
     "name": "stdout",
     "output_type": "stream",
     "text": [
      "Distance: 2.0\n",
      "Accuracy: 0.7838709677419354\n",
      "Distance: 2.0\n",
      "Accuracy: 0.7845659163987139\n",
      "Distance: 1.9999998807907104\n",
      "Accuracy: 0.7852564102564102\n",
      "Distance: 2.0\n",
      "Accuracy: 0.7859424920127795\n",
      "Distance: 2.0\n",
      "Accuracy: 0.7866242038216561\n",
      "Distance: 1.9999998807907104\n",
      "Accuracy: 0.7841269841269841\n",
      "Distance: 2.0\n",
      "Accuracy: 0.7848101265822784\n",
      "Distance: 1.9999998807907104\n",
      "Accuracy: 0.7854889589905363\n",
      "Distance: 2.0\n",
      "Accuracy: 0.7830188679245284\n"
     ]
    },
    {
     "name": "stderr",
     "output_type": "stream",
     "text": [
      "  1%|          | 324/60000 [00:10<24:02, 41.38it/s]"
     ]
    },
    {
     "name": "stdout",
     "output_type": "stream",
     "text": [
      "Distance: 2.0\n",
      "Accuracy: 0.7836990595611285\n",
      "Distance: 2.0\n",
      "Accuracy: 0.784375\n",
      "Distance: nan\n",
      "Accuracy: 0.7819314641744548\n",
      "Distance: 2.0\n",
      "Accuracy: 0.782608695652174\n",
      "Distance: 1.9999998807907104\n",
      "Accuracy: 0.7832817337461301\n",
      "Distance: 2.0\n",
      "Accuracy: 0.7839506172839507\n",
      "Distance: 2.0\n",
      "Accuracy: 0.7846153846153846\n",
      "Distance: 2.0\n",
      "Accuracy: 0.7852760736196319\n",
      "Distance: 2.0\n",
      "Accuracy: 0.7859327217125383\n"
     ]
    },
    {
     "name": "stderr",
     "output_type": "stream",
     "text": [
      "  1%|          | 333/60000 [00:10<27:35, 36.05it/s]"
     ]
    },
    {
     "name": "stdout",
     "output_type": "stream",
     "text": [
      "Distance: 2.0\n",
      "Accuracy: 0.7835365853658537\n",
      "Distance: 2.0\n",
      "Accuracy: 0.78419452887538\n",
      "Distance: 1.9999998807907104\n",
      "Accuracy: 0.7818181818181819\n",
      "Distance: 2.0\n",
      "Accuracy: 0.7824773413897281\n",
      "Distance: 2.000000238418579\n",
      "Accuracy: 0.7831325301204819\n",
      "Distance: 2.0\n",
      "Accuracy: 0.7837837837837838\n"
     ]
    },
    {
     "name": "stderr",
     "output_type": "stream",
     "text": [
      "  1%|          | 341/60000 [00:11<26:55, 36.94it/s]"
     ]
    },
    {
     "name": "stdout",
     "output_type": "stream",
     "text": [
      "Distance: 2.0\n",
      "Accuracy: 0.7844311377245509\n",
      "Distance: 1.9999998807907104\n",
      "Accuracy: 0.7850746268656716\n",
      "Distance: 2.0\n",
      "Accuracy: 0.7857142857142857\n",
      "Distance: 1.9999998807907104\n",
      "Accuracy: 0.7833827893175074\n",
      "Distance: 1.9999998807907104\n",
      "Accuracy: 0.7840236686390533\n",
      "Distance: 2.0\n",
      "Accuracy: 0.7817109144542773\n",
      "Distance: 2.0\n",
      "Accuracy: 0.7823529411764706\n",
      "Distance: 1.9999998807907104\n",
      "Accuracy: 0.782991202346041\n"
     ]
    },
    {
     "name": "stderr",
     "output_type": "stream",
     "text": [
      "  1%|          | 345/60000 [00:11<28:50, 34.48it/s]"
     ]
    },
    {
     "name": "stdout",
     "output_type": "stream",
     "text": [
      "Distance: 2.0\n",
      "Accuracy: 0.7807017543859649\n",
      "Distance: 2.0\n",
      "Accuracy: 0.7813411078717201\n",
      "Distance: 2.0\n",
      "Accuracy: 0.7790697674418605\n",
      "Distance: 2.0\n",
      "Accuracy: 0.7768115942028986\n",
      "Distance: 2.0\n",
      "Accuracy: 0.7774566473988439\n",
      "Distance: 2.0\n",
      "Accuracy: 0.7780979827089337\n"
     ]
    },
    {
     "name": "stderr",
     "output_type": "stream",
     "text": [
      "  1%|          | 353/60000 [00:11<31:58, 31.10it/s]"
     ]
    },
    {
     "name": "stdout",
     "output_type": "stream",
     "text": [
      "Distance: nan\n",
      "Accuracy: 0.7758620689655172\n",
      "Distance: 2.0\n",
      "Accuracy: 0.7765042979942693\n",
      "Distance: 2.0\n",
      "Accuracy: 0.7742857142857142\n",
      "Distance: 2.0\n",
      "Accuracy: 0.7749287749287749\n",
      "Distance: 2.0\n",
      "Accuracy: 0.7755681818181818\n",
      "Distance: 2.0\n",
      "Accuracy: 0.7762039660056658\n"
     ]
    },
    {
     "name": "stderr",
     "output_type": "stream",
     "text": [
      "  1%|          | 357/60000 [00:11<33:40, 29.51it/s]"
     ]
    },
    {
     "name": "stdout",
     "output_type": "stream",
     "text": [
      "Distance: 1.9999998807907104\n",
      "Accuracy: 0.7740112994350282\n",
      "Distance: 2.0\n",
      "Accuracy: 0.7746478873239436\n",
      "Distance: 2.0\n",
      "Accuracy: 0.7752808988764045\n",
      "Distance: 1.999999761581421\n",
      "Accuracy: 0.7759103641456583\n",
      "Distance: 2.0\n",
      "Accuracy: 0.776536312849162\n",
      "Distance: 2.000000238418579\n"
     ]
    },
    {
     "name": "stderr",
     "output_type": "stream",
     "text": [
      "  1%|          | 363/60000 [00:11<36:08, 27.51it/s]"
     ]
    },
    {
     "name": "stdout",
     "output_type": "stream",
     "text": [
      "Accuracy: 0.7743732590529248\n",
      "Distance: 2.0\n",
      "Accuracy: 0.7722222222222223\n",
      "Distance: 2.0\n",
      "Accuracy: 0.7728531855955678\n",
      "Distance: 2.0\n",
      "Accuracy: 0.7734806629834254\n",
      "Distance: 2.0\n",
      "Accuracy: 0.7741046831955923\n",
      "Distance: 2.0\n",
      "Accuracy: 0.771978021978022\n"
     ]
    },
    {
     "name": "stderr",
     "output_type": "stream",
     "text": [
      "  1%|          | 367/60000 [00:12<34:28, 28.83it/s]"
     ]
    },
    {
     "name": "stdout",
     "output_type": "stream",
     "text": [
      "Distance: 2.0\n",
      "Accuracy: 0.7698630136986301\n",
      "Distance: 1.9999998807907104\n",
      "Accuracy: 0.7704918032786885\n",
      "Distance: 2.0\n",
      "Accuracy: 0.7683923705722071\n",
      "Distance: 2.0\n",
      "Accuracy: 0.7663043478260869\n",
      "Distance: 2.0\n",
      "Accuracy: 0.7669376693766937\n",
      "Distance: 2.000000238418579\n",
      "Accuracy: 0.7675675675675676\n"
     ]
    },
    {
     "name": "stderr",
     "output_type": "stream",
     "text": [
      "  1%|          | 374/60000 [00:12<34:33, 28.76it/s]"
     ]
    },
    {
     "name": "stdout",
     "output_type": "stream",
     "text": [
      "Distance: 2.0\n",
      "Accuracy: 0.7654986522911051\n",
      "Distance: 2.0\n",
      "Accuracy: 0.7661290322580645\n",
      "Distance: 1.9999998807907104\n",
      "Accuracy: 0.7667560321715817\n",
      "Distance: 2.000000238418579\n",
      "Accuracy: 0.7647058823529411\n",
      "Distance: 1.9999998807907104\n",
      "Accuracy: 0.7653333333333333\n",
      "Distance: 1.9999998807907104\n",
      "Accuracy: 0.7659574468085106\n"
     ]
    },
    {
     "name": "stderr",
     "output_type": "stream",
     "text": [
      "  1%|          | 380/60000 [00:12<36:52, 26.95it/s]"
     ]
    },
    {
     "name": "stdout",
     "output_type": "stream",
     "text": [
      "Distance: 2.0\n",
      "Accuracy: 0.76657824933687\n",
      "Distance: 1.9999998807907104\n",
      "Accuracy: 0.7671957671957672\n",
      "Distance: 2.0\n",
      "Accuracy: 0.7678100263852242\n",
      "Distance: 2.0\n",
      "Accuracy: 0.7684210526315789\n",
      "Distance: 1.9999998807907104\n",
      "Accuracy: 0.7690288713910761\n",
      "Distance: 1.9999998807907104\n",
      "Accuracy: 0.7696335078534031\n",
      "Distance: nan\n",
      "Accuracy: 0.7676240208877284\n"
     ]
    },
    {
     "name": "stderr",
     "output_type": "stream",
     "text": [
      "  1%|          | 386/60000 [00:12<35:42, 27.83it/s]"
     ]
    },
    {
     "name": "stdout",
     "output_type": "stream",
     "text": [
      "Distance: 2.000000238418579\n",
      "Accuracy: 0.7682291666666666\n",
      "Distance: 2.0\n",
      "Accuracy: 0.7662337662337663\n",
      "Distance: 1.9999998807907104\n",
      "Accuracy: 0.7668393782383419\n",
      "Distance: 2.0\n",
      "Accuracy: 0.7674418604651163\n",
      "Distance: 2.0\n",
      "Accuracy: 0.7680412371134021\n",
      "Distance: 2.0\n",
      "Accuracy: 0.7686375321336761\n",
      "Distance: 1.9999998807907104\n",
      "Accuracy: 0.7666666666666667\n"
     ]
    },
    {
     "name": "stderr",
     "output_type": "stream",
     "text": [
      "  1%|          | 393/60000 [00:12<35:03, 28.34it/s]"
     ]
    },
    {
     "name": "stdout",
     "output_type": "stream",
     "text": [
      "Distance: 1.9999998807907104\n",
      "Accuracy: 0.7672634271099744\n",
      "Distance: 2.000000238418579\n",
      "Accuracy: 0.7653061224489796\n",
      "Distance: 2.0\n",
      "Accuracy: 0.7659033078880407\n",
      "Distance: 1.9999998807907104\n",
      "Accuracy: 0.766497461928934\n",
      "Distance: 1.9999998807907104\n",
      "Accuracy: 0.7645569620253164\n",
      "Distance: 1.999999761581421\n",
      "Accuracy: 0.7651515151515151\n"
     ]
    },
    {
     "name": "stderr",
     "output_type": "stream",
     "text": [
      "  1%|          | 399/60000 [00:13<37:49, 26.26it/s]"
     ]
    },
    {
     "name": "stdout",
     "output_type": "stream",
     "text": [
      "Distance: 1.9999998807907104\n",
      "Accuracy: 0.7657430730478589\n",
      "Distance: 2.0\n",
      "Accuracy: 0.7638190954773869\n",
      "Distance: 2.0\n",
      "Accuracy: 0.7619047619047619\n",
      "Distance: 2.0\n",
      "Accuracy: 0.7625\n",
      "Distance: 2.0\n",
      "Accuracy: 0.7605985037406484\n",
      "Distance: 2.0\n",
      "Accuracy: 0.7611940298507462\n"
     ]
    },
    {
     "name": "stderr",
     "output_type": "stream",
     "text": [
      "  1%|          | 406/60000 [00:13<36:59, 26.85it/s]"
     ]
    },
    {
     "name": "stdout",
     "output_type": "stream",
     "text": [
      "Distance: 2.0\n",
      "Accuracy: 0.7617866004962779\n",
      "Distance: 2.0\n",
      "Accuracy: 0.7623762376237624\n",
      "Distance: 2.0\n",
      "Accuracy: 0.762962962962963\n",
      "Distance: 2.0\n",
      "Accuracy: 0.7635467980295566\n",
      "Distance: 1.9999998807907104\n",
      "Accuracy: 0.7641277641277642\n",
      "Distance: 2.0\n",
      "Accuracy: 0.7622549019607843\n"
     ]
    },
    {
     "name": "stderr",
     "output_type": "stream",
     "text": [
      "  1%|          | 412/60000 [00:13<39:24, 25.20it/s]"
     ]
    },
    {
     "name": "stdout",
     "output_type": "stream",
     "text": [
      "Distance: 2.0\n",
      "Accuracy: 0.7628361858190709\n",
      "Distance: 2.0\n",
      "Accuracy: 0.7634146341463415\n",
      "Distance: 2.0\n",
      "Accuracy: 0.7639902676399026\n",
      "Distance: 2.0\n",
      "Accuracy: 0.7645631067961165\n",
      "Distance: 2.0\n",
      "Accuracy: 0.7627118644067796\n"
     ]
    },
    {
     "name": "stderr",
     "output_type": "stream",
     "text": [
      "  1%|          | 418/60000 [00:13<38:24, 25.85it/s]"
     ]
    },
    {
     "name": "stdout",
     "output_type": "stream",
     "text": [
      "Distance: 2.0\n",
      "Accuracy: 0.7632850241545893\n",
      "Distance: 1.9999998807907104\n",
      "Accuracy: 0.763855421686747\n",
      "Distance: nan\n",
      "Accuracy: 0.7620192307692307\n",
      "Distance: 2.0\n",
      "Accuracy: 0.762589928057554\n",
      "Distance: nan\n",
      "Accuracy: 0.7607655502392344\n",
      "Distance: 1.9999998807907104\n",
      "Accuracy: 0.7613365155131265\n"
     ]
    },
    {
     "name": "stderr",
     "output_type": "stream",
     "text": [
      "  1%|          | 424/60000 [00:14<37:22, 26.56it/s]"
     ]
    },
    {
     "name": "stdout",
     "output_type": "stream",
     "text": [
      "Distance: 2.0\n",
      "Accuracy: 0.7619047619047619\n",
      "Distance: 1.9999998807907104\n",
      "Accuracy: 0.7624703087885986\n",
      "Distance: 2.0\n",
      "Accuracy: 0.7630331753554502\n",
      "Distance: nan\n",
      "Accuracy: 0.7612293144208038\n",
      "Distance: 2.0\n",
      "Accuracy: 0.7617924528301887\n",
      "Distance: 2.0\n",
      "Accuracy: 0.7623529411764706\n"
     ]
    },
    {
     "name": "stderr",
     "output_type": "stream",
     "text": [
      "  1%|          | 427/60000 [00:14<37:46, 26.28it/s]"
     ]
    },
    {
     "name": "stdout",
     "output_type": "stream",
     "text": [
      "Distance: 1.9999998807907104\n",
      "Accuracy: 0.7629107981220657\n",
      "Distance: 1.9999998807907104\n",
      "Accuracy: 0.7611241217798594\n",
      "Distance: 2.0\n",
      "Accuracy: 0.7616822429906542\n",
      "Distance: 2.0\n",
      "Accuracy: 0.7622377622377622\n",
      "Distance: 1.9999998807907104\n",
      "Accuracy: 0.7627906976744186\n",
      "Distance: 2.0\n",
      "Accuracy: 0.7633410672853829\n"
     ]
    },
    {
     "name": "stderr",
     "output_type": "stream",
     "text": [
      "  1%|          | 437/60000 [00:14<36:17, 27.36it/s]"
     ]
    },
    {
     "name": "stdout",
     "output_type": "stream",
     "text": [
      "Distance: 2.0\n",
      "Accuracy: 0.7638888888888888\n",
      "Distance: 2.0\n",
      "Accuracy: 0.7644341801385681\n",
      "Distance: 1.9999998807907104\n",
      "Accuracy: 0.7649769585253456\n",
      "Distance: 2.0\n",
      "Accuracy: 0.7655172413793103\n",
      "Distance: 2.0\n",
      "Accuracy: 0.7660550458715596\n",
      "Distance: 2.0\n",
      "Accuracy: 0.7643020594965675\n",
      "Distance: 2.0\n"
     ]
    },
    {
     "name": "stderr",
     "output_type": "stream",
     "text": [
      "  1%|          | 441/60000 [00:14<34:27, 28.81it/s]"
     ]
    },
    {
     "name": "stdout",
     "output_type": "stream",
     "text": [
      "Accuracy: 0.7648401826484018\n",
      "Distance: 2.0\n",
      "Accuracy: 0.765375854214123\n",
      "Distance: 2.0\n",
      "Accuracy: 0.7659090909090909\n",
      "Distance: 1.999999761581421\n",
      "Accuracy: 0.7664399092970522\n",
      "Distance: 2.000000238418579\n",
      "Accuracy: 0.7669683257918553\n",
      "Distance: 2.0\n",
      "Accuracy: 0.7674943566591422\n"
     ]
    },
    {
     "name": "stderr",
     "output_type": "stream",
     "text": [
      "  1%|          | 447/60000 [00:14<34:35, 28.69it/s]"
     ]
    },
    {
     "name": "stdout",
     "output_type": "stream",
     "text": [
      "Distance: 2.0\n",
      "Accuracy: 0.7680180180180181\n",
      "Distance: 2.0\n",
      "Accuracy: 0.7685393258426966\n",
      "Distance: 2.0\n",
      "Accuracy: 0.7690582959641256\n",
      "Distance: 1.9999998807907104\n",
      "Accuracy: 0.7695749440715883\n",
      "Distance: 2.0\n",
      "Accuracy: 0.7700892857142857\n",
      "Distance: 2.0\n",
      "Accuracy: 0.7706013363028953\n"
     ]
    },
    {
     "name": "stderr",
     "output_type": "stream",
     "text": [
      "  1%|          | 455/60000 [00:15<33:30, 29.62it/s]"
     ]
    },
    {
     "name": "stdout",
     "output_type": "stream",
     "text": [
      "Distance: 2.0\n",
      "Accuracy: 0.7711111111111111\n",
      "Distance: 2.0\n",
      "Accuracy: 0.7716186252771619\n",
      "Distance: 1.999999761581421\n",
      "Accuracy: 0.7721238938053098\n",
      "Distance: 1.9999998807907104\n",
      "Accuracy: 0.7726269315673289\n",
      "Distance: 1.9999998807907104\n",
      "Accuracy: 0.7731277533039648\n",
      "Distance: 2.0\n",
      "Accuracy: 0.7714285714285715\n",
      "Distance: 2.000000238418579\n",
      "Accuracy: 0.7697368421052632\n"
     ]
    },
    {
     "name": "stderr",
     "output_type": "stream",
     "text": [
      "  1%|          | 462/60000 [00:15<32:57, 30.11it/s]"
     ]
    },
    {
     "name": "stdout",
     "output_type": "stream",
     "text": [
      "Distance: 2.0\n",
      "Accuracy: 0.7680525164113785\n",
      "Distance: 2.0\n",
      "Accuracy: 0.7685589519650655\n",
      "Distance: 1.9999998807907104\n",
      "Accuracy: 0.7690631808278867\n",
      "Distance: 2.0\n",
      "Accuracy: 0.7695652173913043\n",
      "Distance: 2.0\n",
      "Accuracy: 0.7700650759219089\n",
      "Distance: 2.0\n",
      "Accuracy: 0.7683982683982684\n"
     ]
    },
    {
     "name": "stderr",
     "output_type": "stream",
     "text": [
      "  1%|          | 466/60000 [00:15<33:59, 29.20it/s]"
     ]
    },
    {
     "name": "stdout",
     "output_type": "stream",
     "text": [
      "Distance: 2.0\n",
      "Accuracy: 0.7688984881209503\n",
      "Distance: 2.0\n",
      "Accuracy: 0.7693965517241379\n",
      "Distance: 2.0\n",
      "Accuracy: 0.7698924731182796\n",
      "Distance: 2.0\n",
      "Accuracy: 0.7682403433476395\n",
      "Distance: 1.9999998807907104\n",
      "Accuracy: 0.7687366167023555\n",
      "Distance: 2.0\n",
      "Accuracy: 0.7692307692307693\n"
     ]
    },
    {
     "name": "stderr",
     "output_type": "stream",
     "text": [
      "  1%|          | 472/60000 [00:15<35:22, 28.05it/s]"
     ]
    },
    {
     "name": "stdout",
     "output_type": "stream",
     "text": [
      "Distance: 1.999999761581421\n",
      "Accuracy: 0.7697228144989339\n",
      "Distance: 2.0\n",
      "Accuracy: 0.7702127659574468\n",
      "Distance: 1.9999998807907104\n",
      "Accuracy: 0.7685774946921444\n",
      "Distance: 2.000000238418579\n",
      "Accuracy: 0.7690677966101694\n",
      "Distance: 1.9999998807907104\n",
      "Accuracy: 0.7695560253699789\n"
     ]
    },
    {
     "name": "stderr",
     "output_type": "stream",
     "text": [
      "  1%|          | 478/60000 [00:16<37:46, 26.26it/s]"
     ]
    },
    {
     "name": "stdout",
     "output_type": "stream",
     "text": [
      "Distance: 2.0\n",
      "Accuracy: 0.770042194092827\n",
      "Distance: 2.0\n",
      "Accuracy: 0.7684210526315789\n",
      "Distance: 2.0\n",
      "Accuracy: 0.7689075630252101\n",
      "Distance: 2.0\n",
      "Accuracy: 0.7693920335429769\n",
      "Distance: 2.0\n",
      "Accuracy: 0.7698744769874477\n",
      "Distance: 2.0\n",
      "Accuracy: 0.7682672233820459\n"
     ]
    },
    {
     "name": "stderr",
     "output_type": "stream",
     "text": [
      "  1%|          | 484/60000 [00:16<40:00, 24.79it/s]"
     ]
    },
    {
     "name": "stdout",
     "output_type": "stream",
     "text": [
      "Distance: 2.0\n",
      "Accuracy: 0.76875\n",
      "Distance: 2.0\n",
      "Accuracy: 0.7692307692307693\n",
      "Distance: 2.0\n",
      "Accuracy: 0.7676348547717843\n",
      "Distance: 2.0\n",
      "Accuracy: 0.7681159420289855\n",
      "Distance: 2.0\n",
      "Accuracy: 0.7665289256198347\n"
     ]
    },
    {
     "name": "stderr",
     "output_type": "stream",
     "text": [
      "  1%|          | 487/60000 [00:16<40:23, 24.56it/s]"
     ]
    },
    {
     "name": "stdout",
     "output_type": "stream",
     "text": [
      "Distance: 2.0\n",
      "Accuracy: 0.7670103092783506\n",
      "Distance: 2.0\n",
      "Accuracy: 0.7674897119341564\n",
      "Distance: 1.9999998807907104\n",
      "Accuracy: 0.7679671457905544\n",
      "Distance: 1.9999998807907104\n",
      "Accuracy: 0.7684426229508197\n",
      "Distance: 2.0\n",
      "Accuracy: 0.7668711656441718\n",
      "Distance: 2.0\n",
      "Accuracy: 0.7673469387755102\n"
     ]
    },
    {
     "name": "stderr",
     "output_type": "stream",
     "text": [
      "  1%|          | 493/60000 [00:16<38:43, 25.61it/s]"
     ]
    },
    {
     "name": "stdout",
     "output_type": "stream",
     "text": [
      "Distance: 2.0\n",
      "Accuracy: 0.7678207739307535\n",
      "Distance: 2.0\n",
      "Accuracy: 0.7682926829268293\n",
      "Distance: 1.9999998807907104\n",
      "Accuracy: 0.768762677484787\n",
      "Distance: 1.9999998807907104\n",
      "Accuracy: 0.7692307692307693\n",
      "Distance: 2.0\n",
      "Accuracy: 0.7696969696969697\n",
      "Distance: 2.0\n",
      "Accuracy: 0.7681451612903226\n"
     ]
    },
    {
     "name": "stderr",
     "output_type": "stream",
     "text": [
      "  1%|          | 499/60000 [00:16<38:22, 25.84it/s]"
     ]
    },
    {
     "name": "stdout",
     "output_type": "stream",
     "text": [
      "Distance: 2.0\n",
      "Accuracy: 0.7665995975855131\n",
      "Distance: 1.9999998807907104\n",
      "Accuracy: 0.7670682730923695\n",
      "Distance: 2.0\n",
      "Accuracy: 0.7675350701402806\n",
      "Distance: 2.0\n",
      "Accuracy: 0.768\n",
      "Distance: 2.0\n",
      "Accuracy: 0.7684630738522954\n",
      "Distance: 2.0\n",
      "Accuracy: 0.7689243027888446\n"
     ]
    },
    {
     "name": "stderr",
     "output_type": "stream",
     "text": [
      "  1%|          | 505/60000 [00:17<37:40, 26.32it/s]"
     ]
    },
    {
     "name": "stdout",
     "output_type": "stream",
     "text": [
      "Distance: 1.9999998807907104\n",
      "Accuracy: 0.7693836978131213\n",
      "Distance: 2.0\n",
      "Accuracy: 0.7698412698412699\n",
      "Distance: 2.0\n",
      "Accuracy: 0.7702970297029703\n",
      "Distance: 2.0\n",
      "Accuracy: 0.7707509881422925\n",
      "Distance: 1.9999998807907104\n",
      "Accuracy: 0.7712031558185405\n",
      "Distance: 1.9999998807907104\n",
      "Accuracy: 0.7716535433070866\n"
     ]
    },
    {
     "name": "stderr",
     "output_type": "stream",
     "text": [
      "  1%|          | 511/60000 [00:17<40:47, 24.31it/s]"
     ]
    },
    {
     "name": "stdout",
     "output_type": "stream",
     "text": [
      "Distance: 1.9999998807907104\n",
      "Accuracy: 0.7721021611001965\n",
      "Distance: 2.0\n",
      "Accuracy: 0.7705882352941177\n",
      "Distance: 2.0\n",
      "Accuracy: 0.7710371819960861\n",
      "Distance: 2.0\n",
      "Accuracy: 0.771484375\n",
      "Distance: 1.999999761581421\n",
      "Accuracy: 0.7699805068226121\n",
      "Distance: 2.0\n",
      "Accuracy: 0.7704280155642024\n"
     ]
    },
    {
     "name": "stderr",
     "output_type": "stream",
     "text": [
      "  1%|          | 517/60000 [00:17<41:23, 23.95it/s]"
     ]
    },
    {
     "name": "stdout",
     "output_type": "stream",
     "text": [
      "Distance: 2.0\n",
      "Accuracy: 0.7708737864077669\n",
      "Distance: 2.0\n",
      "Accuracy: 0.7713178294573644\n",
      "Distance: 2.0\n",
      "Accuracy: 0.7717601547388782\n",
      "Distance: 2.0\n",
      "Accuracy: 0.7722007722007722\n",
      "Distance: 2.0\n",
      "Accuracy: 0.7726396917148363\n",
      "Distance: 2.0\n",
      "Accuracy: 0.7730769230769231\n"
     ]
    },
    {
     "name": "stderr",
     "output_type": "stream",
     "text": [
      "  1%|          | 523/60000 [00:17<40:36, 24.41it/s]"
     ]
    },
    {
     "name": "stdout",
     "output_type": "stream",
     "text": [
      "Distance: 2.0\n",
      "Accuracy: 0.7735124760076776\n",
      "Distance: 1.999999761581421\n",
      "Accuracy: 0.7720306513409961\n",
      "Distance: 2.000000238418579\n",
      "Accuracy: 0.7724665391969407\n",
      "Distance: 2.0\n",
      "Accuracy: 0.7729007633587787\n",
      "Distance: 2.0\n",
      "Accuracy: 0.7733333333333333\n"
     ]
    },
    {
     "name": "stderr",
     "output_type": "stream",
     "text": [
      "  1%|          | 529/60000 [00:18<40:21, 24.56it/s]"
     ]
    },
    {
     "name": "stdout",
     "output_type": "stream",
     "text": [
      "Distance: nan\n",
      "Accuracy: 0.7718631178707225\n",
      "Distance: 1.999999761581421\n",
      "Accuracy: 0.7722960151802657\n",
      "Distance: 1.9999998807907104\n",
      "Accuracy: 0.7727272727272727\n",
      "Distance: 2.0\n",
      "Accuracy: 0.7712665406427222\n",
      "Distance: 2.0\n",
      "Accuracy: 0.7716981132075472\n",
      "Distance: nan\n",
      "Accuracy: 0.7702448210922788\n"
     ]
    },
    {
     "name": "stderr",
     "output_type": "stream",
     "text": [
      "  1%|          | 535/60000 [00:18<39:21, 25.19it/s]"
     ]
    },
    {
     "name": "stdout",
     "output_type": "stream",
     "text": [
      "Distance: 2.0\n",
      "Accuracy: 0.7706766917293233\n",
      "Distance: 2.0\n",
      "Accuracy: 0.7711069418386491\n",
      "Distance: 1.9999998807907104\n",
      "Accuracy: 0.7715355805243446\n",
      "Distance: 2.0\n",
      "Accuracy: 0.77196261682243\n",
      "Distance: 2.0\n",
      "Accuracy: 0.7723880597014925\n",
      "Distance: 1.9999998807907104\n",
      "Accuracy: 0.7728119180633147\n"
     ]
    },
    {
     "name": "stderr",
     "output_type": "stream",
     "text": [
      "  1%|          | 541/60000 [00:18<40:19, 24.57it/s]"
     ]
    },
    {
     "name": "stdout",
     "output_type": "stream",
     "text": [
      "Distance: 2.0\n",
      "Accuracy: 0.7732342007434945\n",
      "Distance: 1.9999998807907104\n",
      "Accuracy: 0.7736549165120594\n",
      "Distance: 2.0\n",
      "Accuracy: 0.774074074074074\n",
      "Distance: 2.0\n",
      "Accuracy: 0.7744916820702403\n",
      "Distance: 2.0\n",
      "Accuracy: 0.7730627306273062\n",
      "Distance: 2.0\n"
     ]
    },
    {
     "name": "stderr",
     "output_type": "stream",
     "text": [
      "  1%|          | 548/60000 [00:18<37:47, 26.22it/s]"
     ]
    },
    {
     "name": "stdout",
     "output_type": "stream",
     "text": [
      "Accuracy: 0.7734806629834254\n",
      "Distance: 2.0\n",
      "Accuracy: 0.7738970588235294\n",
      "Distance: 2.0\n",
      "Accuracy: 0.7743119266055046\n",
      "Distance: 2.0\n",
      "Accuracy: 0.7747252747252747\n",
      "Distance: 2.0\n",
      "Accuracy: 0.7751371115173674\n",
      "Distance: 2.000000238418579\n",
      "Accuracy: 0.7737226277372263\n"
     ]
    },
    {
     "name": "stderr",
     "output_type": "stream",
     "text": [
      "  1%|          | 554/60000 [00:19<37:41, 26.28it/s]"
     ]
    },
    {
     "name": "stdout",
     "output_type": "stream",
     "text": [
      "Distance: 2.0\n",
      "Accuracy: 0.7723132969034608\n",
      "Distance: 2.0\n",
      "Accuracy: 0.7727272727272727\n",
      "Distance: 2.0\n",
      "Accuracy: 0.7731397459165155\n",
      "Distance: 2.0\n",
      "Accuracy: 0.7735507246376812\n",
      "Distance: 2.0\n",
      "Accuracy: 0.7739602169981917\n",
      "Distance: 1.9999998807907104\n",
      "Accuracy: 0.7743682310469314\n"
     ]
    },
    {
     "name": "stderr",
     "output_type": "stream",
     "text": [
      "  1%|          | 557/60000 [00:19<39:22, 25.16it/s]"
     ]
    },
    {
     "name": "stdout",
     "output_type": "stream",
     "text": [
      "Distance: 2.0\n",
      "Accuracy: 0.772972972972973\n",
      "Distance: 1.9999998807907104\n",
      "Accuracy: 0.7733812949640287\n",
      "Distance: 2.0\n",
      "Accuracy: 0.7737881508078994\n",
      "Distance: 2.0\n",
      "Accuracy: 0.7741935483870968\n",
      "Distance: 2.000000238418579\n",
      "Accuracy: 0.7728085867620751\n",
      "Distance: 2.0\n",
      "Accuracy: 0.7732142857142857\n"
     ]
    },
    {
     "name": "stderr",
     "output_type": "stream",
     "text": [
      "  1%|          | 563/60000 [00:19<39:21, 25.17it/s]"
     ]
    },
    {
     "name": "stdout",
     "output_type": "stream",
     "text": [
      "Distance: 2.0\n",
      "Accuracy: 0.7718360071301248\n",
      "Distance: 1.999999761581421\n",
      "Accuracy: 0.7722419928825622\n",
      "Distance: 2.0\n",
      "Accuracy: 0.7726465364120781\n",
      "Distance: 1.9999998807907104\n",
      "Accuracy: 0.7730496453900709\n",
      "Distance: 1.9999998807907104\n",
      "Accuracy: 0.7734513274336283\n",
      "Distance: 1.999999761581421\n",
      "Accuracy: 0.773851590106007\n"
     ]
    },
    {
     "name": "stderr",
     "output_type": "stream",
     "text": [
      "  1%|          | 569/60000 [00:19<39:48, 24.88it/s]"
     ]
    },
    {
     "name": "stdout",
     "output_type": "stream",
     "text": [
      "Distance: 1.9999998807907104\n",
      "Accuracy: 0.7742504409171076\n",
      "Distance: 1.9999998807907104\n",
      "Accuracy: 0.772887323943662\n",
      "Distance: 1.9999998807907104\n",
      "Accuracy: 0.7715289982425307\n",
      "Distance: 2.0\n",
      "Accuracy: 0.7719298245614035\n",
      "Distance: 2.0\n",
      "Accuracy: 0.7723292469352014\n",
      "Distance: 2.0\n"
     ]
    },
    {
     "name": "stderr",
     "output_type": "stream",
     "text": [
      "  1%|          | 575/60000 [00:19<39:34, 25.02it/s]"
     ]
    },
    {
     "name": "stdout",
     "output_type": "stream",
     "text": [
      "Accuracy: 0.7727272727272727\n",
      "Distance: 2.0\n",
      "Accuracy: 0.7731239092495636\n",
      "Distance: 2.0\n",
      "Accuracy: 0.7735191637630662\n",
      "Distance: 2.0\n",
      "Accuracy: 0.7721739130434783\n",
      "Distance: 2.0\n",
      "Accuracy: 0.7725694444444444\n"
     ]
    },
    {
     "name": "stderr",
     "output_type": "stream",
     "text": [
      "  1%|          | 581/60000 [00:20<39:26, 25.11it/s]"
     ]
    },
    {
     "name": "stdout",
     "output_type": "stream",
     "text": [
      "Distance: 1.9999998807907104\n",
      "Accuracy: 0.7712305025996534\n",
      "Distance: 1.9999998807907104\n",
      "Accuracy: 0.7716262975778547\n",
      "Distance: 2.0\n",
      "Accuracy: 0.772020725388601\n",
      "Distance: 2.0\n",
      "Accuracy: 0.7706896551724138\n",
      "Distance: 1.9999998807907104\n",
      "Accuracy: 0.7710843373493976\n"
     ]
    },
    {
     "name": "stderr",
     "output_type": "stream",
     "text": [
      "  1%|          | 587/60000 [00:20<37:32, 26.38it/s]"
     ]
    },
    {
     "name": "stdout",
     "output_type": "stream",
     "text": [
      "Distance: 1.9999998807907104\n",
      "Accuracy: 0.7714776632302406\n",
      "Distance: 1.9999998807907104\n",
      "Accuracy: 0.7718696397941681\n",
      "Distance: 2.0\n",
      "Accuracy: 0.7722602739726028\n",
      "Distance: 2.0\n",
      "Accuracy: 0.770940170940171\n",
      "Distance: 2.0\n",
      "Accuracy: 0.7713310580204779\n",
      "Distance: 2.0\n",
      "Accuracy: 0.7717206132879046\n",
      "Distance: 2.0\n",
      "Accuracy: 0.7721088435374149\n"
     ]
    },
    {
     "name": "stderr",
     "output_type": "stream",
     "text": [
      "  1%|          | 593/60000 [00:20<36:38, 27.02it/s]"
     ]
    },
    {
     "name": "stdout",
     "output_type": "stream",
     "text": [
      "Distance: 2.0\n",
      "Accuracy: 0.7724957555178268\n",
      "Distance: 2.0\n",
      "Accuracy: 0.7728813559322034\n",
      "Distance: 1.9999998807907104\n",
      "Accuracy: 0.7732656514382402\n",
      "Distance: 1.999999761581421\n",
      "Accuracy: 0.7736486486486487\n",
      "Distance: 2.0\n",
      "Accuracy: 0.7740303541315345\n",
      "Distance: 2.0\n",
      "Accuracy: 0.7744107744107744\n"
     ]
    },
    {
     "name": "stderr",
     "output_type": "stream",
     "text": [
      "  1%|          | 599/60000 [00:20<36:18, 27.26it/s]"
     ]
    },
    {
     "name": "stdout",
     "output_type": "stream",
     "text": [
      "Distance: 2.0\n",
      "Accuracy: 0.773109243697479\n",
      "Distance: 2.0\n",
      "Accuracy: 0.7718120805369127\n",
      "Distance: 1.9999998807907104\n",
      "Accuracy: 0.7721943048576214\n",
      "Distance: 2.0\n",
      "Accuracy: 0.7725752508361204\n",
      "Distance: 2.0\n",
      "Accuracy: 0.7729549248747913\n",
      "Distance: nan\n",
      "Accuracy: 0.7716666666666666\n"
     ]
    },
    {
     "name": "stderr",
     "output_type": "stream",
     "text": [
      "  1%|          | 605/60000 [00:21<38:50, 25.49it/s]"
     ]
    },
    {
     "name": "stdout",
     "output_type": "stream",
     "text": [
      "Distance: 1.9999998807907104\n",
      "Accuracy: 0.7720465890183028\n",
      "Distance: 2.0\n",
      "Accuracy: 0.7724252491694352\n",
      "Distance: 2.0\n",
      "Accuracy: 0.7711442786069652\n",
      "Distance: 1.9999998807907104\n",
      "Accuracy: 0.7715231788079471\n",
      "Distance: 2.0\n",
      "Accuracy: 0.7702479338842976\n"
     ]
    },
    {
     "name": "stderr",
     "output_type": "stream",
     "text": [
      "  1%|          | 608/60000 [00:21<38:57, 25.41it/s]"
     ]
    },
    {
     "name": "stdout",
     "output_type": "stream",
     "text": [
      "Distance: 2.0\n",
      "Accuracy: 0.7706270627062707\n",
      "Distance: 2.0\n",
      "Accuracy: 0.7693574958813838\n",
      "Distance: 2.0\n",
      "Accuracy: 0.7697368421052632\n",
      "Distance: 2.0\n",
      "Accuracy: 0.7701149425287356\n",
      "Distance: 2.0\n",
      "Accuracy: 0.7704918032786885\n"
     ]
    },
    {
     "name": "stderr",
     "output_type": "stream",
     "text": [
      "  1%|          | 614/60000 [00:21<39:54, 24.80it/s]"
     ]
    },
    {
     "name": "stdout",
     "output_type": "stream",
     "text": [
      "Distance: 2.0\n",
      "Accuracy: 0.7708674304418985\n",
      "Distance: 2.0\n",
      "Accuracy: 0.7712418300653595\n",
      "Distance: 2.0\n",
      "Accuracy: 0.7716150081566069\n",
      "Distance: 2.0\n",
      "Accuracy: 0.7719869706840391\n",
      "Distance: 2.0\n",
      "Accuracy: 0.7707317073170732\n",
      "Distance: 2.0\n",
      "Accuracy: 0.7694805194805194\n"
     ]
    },
    {
     "name": "stderr",
     "output_type": "stream",
     "text": [
      "  1%|          | 621/60000 [00:21<38:19, 25.83it/s]"
     ]
    },
    {
     "name": "stdout",
     "output_type": "stream",
     "text": [
      "Distance: 1.9999998807907104\n",
      "Accuracy: 0.7698541329011345\n",
      "Distance: 2.0\n",
      "Accuracy: 0.7702265372168284\n",
      "Distance: 2.0\n",
      "Accuracy: 0.7705977382875606\n",
      "Distance: 2.0\n",
      "Accuracy: 0.7709677419354839\n",
      "Distance: 2.0\n",
      "Accuracy: 0.7713365539452496\n",
      "Distance: 1.9999998807907104\n",
      "Accuracy: 0.7717041800643086\n"
     ]
    },
    {
     "name": "stderr",
     "output_type": "stream",
     "text": [
      "  1%|          | 627/60000 [00:21<39:03, 25.34it/s]"
     ]
    },
    {
     "name": "stdout",
     "output_type": "stream",
     "text": [
      "Distance: 2.0\n",
      "Accuracy: 0.7720706260032103\n",
      "Distance: nan\n",
      "Accuracy: 0.7708333333333334\n",
      "Distance: 2.0\n",
      "Accuracy: 0.7712\n",
      "Distance: 2.0\n",
      "Accuracy: 0.7715654952076677\n",
      "Distance: 2.0\n",
      "Accuracy: 0.7719298245614035\n",
      "Distance: 1.9999998807907104\n",
      "Accuracy: 0.7722929936305732\n"
     ]
    },
    {
     "name": "stderr",
     "output_type": "stream",
     "text": [
      "  1%|          | 633/60000 [00:22<39:22, 25.13it/s]"
     ]
    },
    {
     "name": "stdout",
     "output_type": "stream",
     "text": [
      "Distance: nan\n",
      "Accuracy: 0.7710651828298887\n",
      "Distance: 2.0\n",
      "Accuracy: 0.7714285714285715\n",
      "Distance: 2.0\n",
      "Accuracy: 0.7717908082408875\n",
      "Distance: 2.0\n",
      "Accuracy: 0.7721518987341772\n",
      "Distance: 2.0\n",
      "Accuracy: 0.7725118483412322\n",
      "Distance: 1.9999998807907104\n",
      "Accuracy: 0.7728706624605678\n"
     ]
    },
    {
     "name": "stderr",
     "output_type": "stream",
     "text": [
      "  1%|          | 640/60000 [00:22<35:23, 27.95it/s]"
     ]
    },
    {
     "name": "stdout",
     "output_type": "stream",
     "text": [
      "Distance: 1.9999998807907104\n",
      "Accuracy: 0.7732283464566929\n",
      "Distance: 2.0\n",
      "Accuracy: 0.7735849056603774\n",
      "Distance: nan\n",
      "Accuracy: 0.7723704866562009\n",
      "Distance: 2.0\n",
      "Accuracy: 0.7727272727272727\n",
      "Distance: 1.999999761581421\n",
      "Accuracy: 0.7730829420970265\n",
      "Distance: 2.0\n",
      "Accuracy: 0.7734375\n"
     ]
    },
    {
     "name": "stderr",
     "output_type": "stream",
     "text": [
      "  1%|          | 646/60000 [00:22<37:37, 26.29it/s]"
     ]
    },
    {
     "name": "stdout",
     "output_type": "stream",
     "text": [
      "Distance: 2.0\n",
      "Accuracy: 0.7737909516380655\n",
      "Distance: 1.9999998807907104\n",
      "Accuracy: 0.7741433021806854\n",
      "Distance: 2.0\n",
      "Accuracy: 0.7729393468118196\n",
      "Distance: 2.0\n",
      "Accuracy: 0.7732919254658385\n",
      "Distance: 2.0\n",
      "Accuracy: 0.7736434108527132\n",
      "Distance: 2.0\n",
      "Accuracy: 0.7724458204334366\n"
     ]
    },
    {
     "name": "stderr",
     "output_type": "stream",
     "text": [
      "  1%|          | 652/60000 [00:22<36:48, 26.87it/s]"
     ]
    },
    {
     "name": "stdout",
     "output_type": "stream",
     "text": [
      "Distance: 1.9999998807907104\n",
      "Accuracy: 0.7712519319938176\n",
      "Distance: 2.0\n",
      "Accuracy: 0.7716049382716049\n",
      "Distance: 1.9999998807907104\n",
      "Accuracy: 0.7719568567026194\n",
      "Distance: nan\n",
      "Accuracy: 0.7707692307692308\n",
      "Distance: 2.0\n",
      "Accuracy: 0.7711213517665131\n",
      "Distance: 2.0\n",
      "Accuracy: 0.7714723926380368\n"
     ]
    },
    {
     "name": "stderr",
     "output_type": "stream",
     "text": [
      "  1%|          | 658/60000 [00:23<37:29, 26.38it/s]"
     ]
    },
    {
     "name": "stdout",
     "output_type": "stream",
     "text": [
      "Distance: 2.0\n",
      "Accuracy: 0.7718223583460949\n",
      "Distance: 1.999999761581421\n",
      "Accuracy: 0.77217125382263\n",
      "Distance: 2.0\n",
      "Accuracy: 0.7709923664122137\n",
      "Distance: 1.999999761581421\n",
      "Accuracy: 0.7713414634146342\n",
      "Distance: 1.9999998807907104\n",
      "Accuracy: 0.771689497716895\n",
      "Distance: 2.0\n",
      "Accuracy: 0.7720364741641338\n"
     ]
    },
    {
     "name": "stderr",
     "output_type": "stream",
     "text": [
      "  1%|          | 661/60000 [00:23<39:45, 24.87it/s]"
     ]
    },
    {
     "name": "stdout",
     "output_type": "stream",
     "text": [
      "Distance: 1.9999998807907104\n",
      "Accuracy: 0.7708649468892261\n",
      "Distance: 2.0\n",
      "Accuracy: 0.7696969696969697\n",
      "Distance: 1.9999998807907104\n",
      "Accuracy: 0.7700453857791225\n",
      "Distance: 2.0\n",
      "Accuracy: 0.7688821752265861\n",
      "Distance: 1.9999998807907104\n",
      "Accuracy: 0.7692307692307693\n",
      "Distance: 1.999999761581421\n"
     ]
    },
    {
     "name": "stderr",
     "output_type": "stream",
     "text": [
      "  1%|          | 667/60000 [00:23<39:17, 25.17it/s]"
     ]
    },
    {
     "name": "stdout",
     "output_type": "stream",
     "text": [
      "Accuracy: 0.7680722891566265\n",
      "Distance: 2.0\n",
      "Accuracy: 0.7669172932330827\n",
      "Distance: 2.0\n",
      "Accuracy: 0.7657657657657657\n",
      "Distance: 2.0\n",
      "Accuracy: 0.7661169415292354\n",
      "Distance: 1.9999998807907104\n",
      "Accuracy: 0.7664670658682635\n",
      "Distance: 2.0\n",
      "Accuracy: 0.7668161434977578\n"
     ]
    },
    {
     "name": "stderr",
     "output_type": "stream",
     "text": [
      "  1%|          | 673/60000 [00:23<39:26, 25.07it/s]"
     ]
    },
    {
     "name": "stdout",
     "output_type": "stream",
     "text": [
      "Distance: nan\n",
      "Accuracy: 0.7656716417910447\n",
      "Distance: 1.9999998807907104\n",
      "Accuracy: 0.7660208643815202\n",
      "Distance: 1.9999998807907104\n",
      "Accuracy: 0.7663690476190477\n",
      "Distance: 2.0\n",
      "Accuracy: 0.7667161961367014\n",
      "Distance: 2.0\n",
      "Accuracy: 0.7670623145400594\n"
     ]
    },
    {
     "name": "stderr",
     "output_type": "stream",
     "text": [
      "  1%|          | 679/60000 [00:23<39:38, 24.94it/s]"
     ]
    },
    {
     "name": "stdout",
     "output_type": "stream",
     "text": [
      "Distance: 2.0\n",
      "Accuracy: 0.7659259259259259\n",
      "Distance: 2.0\n",
      "Accuracy: 0.764792899408284\n",
      "Distance: 2.0\n",
      "Accuracy: 0.7651403249630724\n",
      "Distance: 2.0\n",
      "Accuracy: 0.7654867256637168\n",
      "Distance: 2.0\n",
      "Accuracy: 0.7658321060382917\n"
     ]
    },
    {
     "name": "stderr",
     "output_type": "stream",
     "text": [
      "  1%|          | 682/60000 [00:24<39:04, 25.30it/s]"
     ]
    },
    {
     "name": "stdout",
     "output_type": "stream",
     "text": [
      "Distance: 1.9999998807907104\n",
      "Accuracy: 0.7647058823529411\n",
      "Distance: 2.0\n",
      "Accuracy: 0.7650513950073421\n",
      "Distance: 2.0\n",
      "Accuracy: 0.7653958944281525\n",
      "Distance: 2.0\n",
      "Accuracy: 0.7642752562225475\n",
      "Distance: 1.9999998807907104\n",
      "Accuracy: 0.7646198830409356\n",
      "Distance: 1.9999998807907104\n"
     ]
    },
    {
     "name": "stderr",
     "output_type": "stream",
     "text": [
      "  1%|          | 688/60000 [00:24<39:40, 24.92it/s]"
     ]
    },
    {
     "name": "stdout",
     "output_type": "stream",
     "text": [
      "Accuracy: 0.7649635036496351\n",
      "Distance: 1.9999998807907104\n",
      "Accuracy: 0.7653061224489796\n",
      "Distance: 2.0\n",
      "Accuracy: 0.7656477438136827\n",
      "Distance: 2.0\n",
      "Accuracy: 0.7645348837209303\n",
      "Distance: 2.0\n",
      "Accuracy: 0.7648766328011611\n"
     ]
    },
    {
     "name": "stderr",
     "output_type": "stream",
     "text": [
      "  1%|          | 694/60000 [00:24<42:26, 23.29it/s]"
     ]
    },
    {
     "name": "stdout",
     "output_type": "stream",
     "text": [
      "Distance: 2.0\n",
      "Accuracy: 0.763768115942029\n",
      "Distance: 2.0\n",
      "Accuracy: 0.76410998552822\n",
      "Distance: 1.9999998807907104\n",
      "Accuracy: 0.7644508670520231\n",
      "Distance: 2.0\n",
      "Accuracy: 0.7647907647907648\n",
      "Distance: 1.9999998807907104\n",
      "Accuracy: 0.7651296829971181\n"
     ]
    },
    {
     "name": "stderr",
     "output_type": "stream",
     "text": [
      "  1%|          | 698/60000 [00:24<40:05, 24.65it/s]"
     ]
    },
    {
     "name": "stdout",
     "output_type": "stream",
     "text": [
      "Distance: 1.9999998807907104\n",
      "Accuracy: 0.7654676258992805\n",
      "Distance: 2.0\n",
      "Accuracy: 0.7658045977011494\n",
      "Distance: 2.0\n",
      "Accuracy: 0.7661406025824964\n",
      "Distance: 2.0\n",
      "Accuracy: 0.7664756446991404\n",
      "Distance: 1.9999998807907104\n",
      "Accuracy: 0.7668097281831188\n",
      "Distance: 2.0\n",
      "Accuracy: 0.7671428571428571\n"
     ]
    },
    {
     "name": "stderr",
     "output_type": "stream",
     "text": [
      "  1%|          | 704/60000 [00:24<37:55, 26.06it/s]"
     ]
    },
    {
     "name": "stdout",
     "output_type": "stream",
     "text": [
      "Distance: 2.0\n",
      "Accuracy: 0.7674750356633381\n",
      "Distance: 1.9999998807907104\n",
      "Accuracy: 0.7678062678062678\n",
      "Distance: 2.000000238418579\n",
      "Accuracy: 0.7667140825035562\n",
      "Distance: 2.0\n",
      "Accuracy: 0.7670454545454546\n",
      "Distance: 2.0\n",
      "Accuracy: 0.7673758865248227\n",
      "Distance: 2.0\n",
      "Accuracy: 0.7662889518413598\n"
     ]
    },
    {
     "name": "stderr",
     "output_type": "stream",
     "text": [
      "  1%|          | 710/60000 [00:25<37:25, 26.40it/s]"
     ]
    },
    {
     "name": "stdout",
     "output_type": "stream",
     "text": [
      "Distance: 2.0\n",
      "Accuracy: 0.7652050919377652\n",
      "Distance: 2.0\n",
      "Accuracy: 0.7655367231638418\n",
      "Distance: 2.0\n",
      "Accuracy: 0.764456981664316\n",
      "Distance: 2.0\n",
      "Accuracy: 0.7647887323943662\n",
      "Distance: 2.0\n",
      "Accuracy: 0.7637130801687764\n",
      "Distance: 1.9999998807907104\n",
      "Accuracy: 0.7626404494382022\n"
     ]
    },
    {
     "name": "stderr",
     "output_type": "stream",
     "text": [
      "  1%|          | 717/60000 [00:25<37:33, 26.30it/s]"
     ]
    },
    {
     "name": "stdout",
     "output_type": "stream",
     "text": [
      "Distance: 1.9999998807907104\n",
      "Accuracy: 0.7629733520336606\n",
      "Distance: 1.9999998807907104\n",
      "Accuracy: 0.7633053221288515\n",
      "Distance: 1.9999998807907104\n",
      "Accuracy: 0.7636363636363637\n",
      "Distance: 2.0\n",
      "Accuracy: 0.7639664804469274\n",
      "Distance: 2.0\n",
      "Accuracy: 0.7642956764295676\n"
     ]
    },
    {
     "name": "stderr",
     "output_type": "stream",
     "text": [
      "  1%|          | 723/60000 [00:25<38:07, 25.91it/s]"
     ]
    },
    {
     "name": "stdout",
     "output_type": "stream",
     "text": [
      "Distance: 1.9999998807907104\n",
      "Accuracy: 0.7646239554317549\n",
      "Distance: 2.0\n",
      "Accuracy: 0.7635605006954103\n",
      "Distance: 2.0\n",
      "Accuracy: 0.7625\n",
      "Distance: 2.0\n",
      "Accuracy: 0.7614424410540915\n",
      "Distance: 2.0\n",
      "Accuracy: 0.7617728531855956\n",
      "Distance: 1.9999998807907104\n",
      "Accuracy: 0.7607192254495159\n"
     ]
    },
    {
     "name": "stderr",
     "output_type": "stream",
     "text": [
      "  1%|          | 727/60000 [00:25<37:28, 26.36it/s]"
     ]
    },
    {
     "name": "stdout",
     "output_type": "stream",
     "text": [
      "Distance: 2.0\n",
      "Accuracy: 0.7596685082872928\n",
      "Distance: 2.0\n",
      "Accuracy: 0.7586206896551724\n",
      "Distance: 2.0\n",
      "Accuracy: 0.7589531680440771\n",
      "Distance: 1.9999998807907104\n",
      "Accuracy: 0.7592847317744154\n",
      "Distance: 2.0\n",
      "Accuracy: 0.7582417582417582\n",
      "Distance: 2.0\n",
      "Accuracy: 0.7585733882030178\n"
     ]
    },
    {
     "name": "stderr",
     "output_type": "stream",
     "text": [
      "  1%|          | 733/60000 [00:26<39:21, 25.09it/s]"
     ]
    },
    {
     "name": "stdout",
     "output_type": "stream",
     "text": [
      "Distance: 2.0\n",
      "Accuracy: 0.7589041095890411\n",
      "Distance: 1.9999998807907104\n",
      "Accuracy: 0.759233926128591\n",
      "Distance: 1.9999998807907104\n",
      "Accuracy: 0.7595628415300546\n",
      "Distance: 1.9999998807907104\n",
      "Accuracy: 0.7598908594815825\n",
      "Distance: 2.0\n",
      "Accuracy: 0.7602179836512262\n",
      "Distance: 2.0\n",
      "Accuracy: 0.7605442176870748\n"
     ]
    },
    {
     "name": "stderr",
     "output_type": "stream",
     "text": [
      "  1%|          | 739/60000 [00:26<40:32, 24.36it/s]"
     ]
    },
    {
     "name": "stdout",
     "output_type": "stream",
     "text": [
      "Distance: 2.0\n",
      "Accuracy: 0.7608695652173914\n",
      "Distance: 1.9999998807907104\n",
      "Accuracy: 0.7611940298507462\n",
      "Distance: 2.0\n",
      "Accuracy: 0.7615176151761518\n",
      "Distance: 2.0\n",
      "Accuracy: 0.7618403247631935\n",
      "Distance: 1.9999998807907104\n",
      "Accuracy: 0.7621621621621621\n",
      "Distance: 2.0\n",
      "Accuracy: 0.7624831309041835\n"
     ]
    },
    {
     "name": "stderr",
     "output_type": "stream",
     "text": [
      "  1%|          | 745/60000 [00:26<42:07, 23.44it/s]"
     ]
    },
    {
     "name": "stdout",
     "output_type": "stream",
     "text": [
      "Distance: 2.0\n",
      "Accuracy: 0.7628032345013477\n",
      "Distance: 2.0\n",
      "Accuracy: 0.7617765814266487\n",
      "Distance: 2.0\n",
      "Accuracy: 0.7620967741935484\n",
      "Distance: 1.9999998807907104\n",
      "Accuracy: 0.7610738255033557\n",
      "Distance: 2.0\n",
      "Accuracy: 0.7613941018766756\n",
      "Distance: 1.9999998807907104\n",
      "Accuracy: 0.7617135207496654\n"
     ]
    },
    {
     "name": "stderr",
     "output_type": "stream",
     "text": [
      "  1%|▏         | 752/60000 [00:26<37:17, 26.48it/s]"
     ]
    },
    {
     "name": "stdout",
     "output_type": "stream",
     "text": [
      "Distance: 2.0\n",
      "Accuracy: 0.7620320855614974\n",
      "Distance: nan\n",
      "Accuracy: 0.7610146862483311\n",
      "Distance: 1.9999998807907104\n",
      "Accuracy: 0.7613333333333333\n",
      "Distance: 2.000000238418579\n",
      "Accuracy: 0.7616511318242344\n",
      "Distance: 2.0\n",
      "Accuracy: 0.761968085106383\n",
      "Distance: 1.9999998807907104\n",
      "Accuracy: 0.7622841965471447\n",
      "Distance: 1.9999998807907104\n",
      "Accuracy: 0.7625994694960212\n"
     ]
    },
    {
     "name": "stderr",
     "output_type": "stream",
     "text": [
      "  1%|▏         | 758/60000 [00:27<38:12, 25.84it/s]"
     ]
    },
    {
     "name": "stdout",
     "output_type": "stream",
     "text": [
      "Distance: 2.0\n",
      "Accuracy: 0.7629139072847683\n",
      "Distance: 2.0\n",
      "Accuracy: 0.7632275132275133\n",
      "Distance: nan\n",
      "Accuracy: 0.76221928665786\n",
      "Distance: nan\n",
      "Accuracy: 0.7612137203166227\n",
      "Distance: 2.0\n",
      "Accuracy: 0.761528326745718\n",
      "Distance: nan\n",
      "Accuracy: 0.7605263157894737\n"
     ]
    },
    {
     "name": "stderr",
     "output_type": "stream",
     "text": [
      "  1%|▏         | 764/60000 [00:27<36:01, 27.40it/s]"
     ]
    },
    {
     "name": "stdout",
     "output_type": "stream",
     "text": [
      "Distance: 1.9999998807907104\n",
      "Accuracy: 0.7608409986859396\n",
      "Distance: 1.999999761581421\n",
      "Accuracy: 0.7598425196850394\n",
      "Distance: 1.9999998807907104\n",
      "Accuracy: 0.7601572739187418\n",
      "Distance: 2.0\n",
      "Accuracy: 0.7591623036649214\n",
      "Distance: 1.999999761581421\n",
      "Accuracy: 0.7594771241830065\n",
      "Distance: 2.0\n",
      "Accuracy: 0.7597911227154047\n"
     ]
    },
    {
     "name": "stderr",
     "output_type": "stream",
     "text": [
      "  1%|▏         | 770/60000 [00:27<36:08, 27.32it/s]"
     ]
    },
    {
     "name": "stdout",
     "output_type": "stream",
     "text": [
      "Distance: 2.0\n",
      "Accuracy: 0.758800521512386\n",
      "Distance: 2.0\n",
      "Accuracy: 0.7591145833333334\n",
      "Distance: 2.0\n",
      "Accuracy: 0.7581274382314694\n",
      "Distance: 2.0\n",
      "Accuracy: 0.7571428571428571\n",
      "Distance: 2.0\n",
      "Accuracy: 0.7574578469520103\n",
      "Distance: 1.9999998807907104\n",
      "Accuracy: 0.7577720207253886\n"
     ]
    },
    {
     "name": "stderr",
     "output_type": "stream",
     "text": [
      "  1%|▏         | 776/60000 [00:27<37:55, 26.03it/s]"
     ]
    },
    {
     "name": "stdout",
     "output_type": "stream",
     "text": [
      "Distance: 2.0\n",
      "Accuracy: 0.7580853816300129\n",
      "Distance: 2.0\n",
      "Accuracy: 0.7583979328165374\n",
      "Distance: 2.0\n",
      "Accuracy: 0.7587096774193548\n",
      "Distance: 2.0\n",
      "Accuracy: 0.759020618556701\n",
      "Distance: 1.9999998807907104\n",
      "Accuracy: 0.7593307593307593\n"
     ]
    },
    {
     "name": "stderr",
     "output_type": "stream",
     "text": [
      "  1%|▏         | 782/60000 [00:28<39:04, 25.25it/s]"
     ]
    },
    {
     "name": "stdout",
     "output_type": "stream",
     "text": [
      "Distance: 2.0\n",
      "Accuracy: 0.7596401028277635\n",
      "Distance: 2.0\n",
      "Accuracy: 0.7599486521181001\n",
      "Distance: 1.9999998807907104\n",
      "Accuracy: 0.7602564102564102\n",
      "Distance: 2.0\n",
      "Accuracy: 0.7605633802816901\n",
      "Distance: 2.0\n",
      "Accuracy: 0.7608695652173914\n",
      "Distance: 2.0\n",
      "Accuracy: 0.7598978288633461\n"
     ]
    },
    {
     "name": "stderr",
     "output_type": "stream",
     "text": [
      "  1%|▏         | 788/60000 [00:28<38:06, 25.90it/s]"
     ]
    },
    {
     "name": "stdout",
     "output_type": "stream",
     "text": [
      "Distance: 1.9999998807907104\n",
      "Accuracy: 0.7602040816326531\n",
      "Distance: 1.9999998807907104\n",
      "Accuracy: 0.7605095541401274\n",
      "Distance: 1.9999998807907104\n",
      "Accuracy: 0.7608142493638677\n",
      "Distance: 1.9999998807907104\n",
      "Accuracy: 0.761118170266836\n",
      "Distance: 1.999999761581421\n",
      "Accuracy: 0.7614213197969543\n",
      "Distance: 2.0\n",
      "Accuracy: 0.7604562737642585\n"
     ]
    },
    {
     "name": "stderr",
     "output_type": "stream",
     "text": [
      "  1%|▏         | 794/60000 [00:28<37:57, 25.99it/s]"
     ]
    },
    {
     "name": "stdout",
     "output_type": "stream",
     "text": [
      "Distance: 1.9999998807907104\n",
      "Accuracy: 0.760759493670886\n",
      "Distance: 2.0\n",
      "Accuracy: 0.7610619469026548\n",
      "Distance: 2.0\n",
      "Accuracy: 0.76010101010101\n",
      "Distance: 2.0\n",
      "Accuracy: 0.7604035308953342\n",
      "Distance: 2.0\n",
      "Accuracy: 0.7594458438287154\n",
      "Distance: 2.0\n",
      "Accuracy: 0.759748427672956\n"
     ]
    },
    {
     "name": "stderr",
     "output_type": "stream",
     "text": [
      "  1%|▏         | 800/60000 [00:28<37:56, 26.00it/s]"
     ]
    },
    {
     "name": "stdout",
     "output_type": "stream",
     "text": [
      "Distance: 2.0\n",
      "Accuracy: 0.7587939698492462\n",
      "Distance: 2.0\n",
      "Accuracy: 0.7590966122961104\n",
      "Distance: 1.9999998807907104\n",
      "Accuracy: 0.7593984962406015\n",
      "Distance: 1.9999998807907104\n",
      "Accuracy: 0.7596996245306633\n",
      "Distance: 1.9999998807907104\n",
      "Accuracy: 0.75875\n",
      "Distance: 1.9999998807907104\n",
      "Accuracy: 0.7590511860174781\n"
     ]
    },
    {
     "name": "stderr",
     "output_type": "stream",
     "text": [
      "  1%|▏         | 803/60000 [00:28<36:47, 26.81it/s]"
     ]
    },
    {
     "name": "stdout",
     "output_type": "stream",
     "text": [
      "Distance: 1.9999998807907104\n",
      "Accuracy: 0.7593516209476309\n",
      "Distance: 2.0\n",
      "Accuracy: 0.7596513075965131\n",
      "Distance: 2.0\n",
      "Accuracy: 0.7599502487562189\n",
      "Distance: 2.0\n",
      "Accuracy: 0.760248447204969\n",
      "Distance: 2.0\n",
      "Accuracy: 0.760545905707196\n",
      "Distance: 1.999999761581421\n",
      "Accuracy: 0.7608426270136307\n"
     ]
    },
    {
     "name": "stderr",
     "output_type": "stream",
     "text": [
      "  1%|▏         | 810/60000 [00:29<36:47, 26.81it/s]"
     ]
    },
    {
     "name": "stdout",
     "output_type": "stream",
     "text": [
      "Distance: 2.0\n",
      "Accuracy: 0.7611386138613861\n",
      "Distance: 1.999999761581421\n",
      "Accuracy: 0.761433868974042\n",
      "Distance: 2.0\n",
      "Accuracy: 0.7617283950617284\n",
      "Distance: 2.0\n",
      "Accuracy: 0.7620221948212084\n",
      "Distance: 2.0\n",
      "Accuracy: 0.7623152709359606\n",
      "Distance: 2.0\n",
      "Accuracy: 0.7626076260762608\n"
     ]
    },
    {
     "name": "stderr",
     "output_type": "stream",
     "text": [
      "  1%|▏         | 816/60000 [00:29<37:54, 26.02it/s]"
     ]
    },
    {
     "name": "stdout",
     "output_type": "stream",
     "text": [
      "Distance: 2.0\n",
      "Accuracy: 0.7628992628992629\n",
      "Distance: 2.0\n",
      "Accuracy: 0.7631901840490798\n",
      "Distance: 2.0\n",
      "Accuracy: 0.7634803921568627\n",
      "Distance: 2.000000238418579\n",
      "Accuracy: 0.7637698898408812\n",
      "Distance: 2.0\n",
      "Accuracy: 0.7628361858190709\n",
      "Distance: 2.0\n",
      "Accuracy: 0.7619047619047619\n"
     ]
    },
    {
     "name": "stderr",
     "output_type": "stream",
     "text": [
      "  1%|▏         | 825/60000 [00:29<36:39, 26.90it/s]"
     ]
    },
    {
     "name": "stdout",
     "output_type": "stream",
     "text": [
      "Distance: 2.0\n",
      "Accuracy: 0.7621951219512195\n",
      "Distance: 1.9999998807907104\n",
      "Accuracy: 0.7624847746650426\n",
      "Distance: 2.0\n",
      "Accuracy: 0.7615571776155717\n",
      "Distance: 1.9999998807907104\n",
      "Accuracy: 0.7606318347509113\n",
      "Distance: 2.0\n",
      "Accuracy: 0.7609223300970874\n",
      "Distance: 2.0\n",
      "Accuracy: 0.7612121212121212\n"
     ]
    },
    {
     "name": "stderr",
     "output_type": "stream",
     "text": [
      "  1%|▏         | 831/60000 [00:29<37:01, 26.64it/s]"
     ]
    },
    {
     "name": "stdout",
     "output_type": "stream",
     "text": [
      "Distance: 1.9999998807907104\n",
      "Accuracy: 0.761501210653753\n",
      "Distance: nan\n",
      "Accuracy: 0.7605804111245466\n",
      "Distance: 2.0\n",
      "Accuracy: 0.7608695652173914\n",
      "Distance: 2.0\n",
      "Accuracy: 0.7611580217129071\n",
      "Distance: 1.9999998807907104\n",
      "Accuracy: 0.7614457831325301\n",
      "Distance: 2.0\n",
      "Accuracy: 0.7617328519855595\n"
     ]
    },
    {
     "name": "stderr",
     "output_type": "stream",
     "text": [
      "  1%|▏         | 837/60000 [00:30<38:52, 25.37it/s]"
     ]
    },
    {
     "name": "stdout",
     "output_type": "stream",
     "text": [
      "Distance: 2.0\n",
      "Accuracy: 0.7620192307692307\n",
      "Distance: 2.0\n",
      "Accuracy: 0.7623049219687875\n",
      "Distance: 1.9999998807907104\n",
      "Accuracy: 0.762589928057554\n",
      "Distance: 1.9999998807907104\n",
      "Accuracy: 0.7628742514970059\n",
      "Distance: 2.0\n",
      "Accuracy: 0.7619617224880383\n",
      "Distance: 2.0\n",
      "Accuracy: 0.7622461170848268\n"
     ]
    },
    {
     "name": "stderr",
     "output_type": "stream",
     "text": [
      "  1%|▏         | 840/60000 [00:30<38:04, 25.90it/s]"
     ]
    },
    {
     "name": "stdout",
     "output_type": "stream",
     "text": [
      "Distance: 1.9999998807907104\n",
      "Accuracy: 0.7625298329355609\n",
      "Distance: 1.9999998807907104\n",
      "Accuracy: 0.7616209773539928\n",
      "Distance: 2.0\n",
      "Accuracy: 0.7619047619047619\n",
      "Distance: 2.0\n",
      "Accuracy: 0.7621878715814506\n",
      "Distance: 1.9999998807907104\n",
      "Accuracy: 0.7624703087885986\n",
      "Distance: 1.9999998807907104\n",
      "Accuracy: 0.7627520759193357\n",
      "Distance: 1.9999998807907104\n",
      "Accuracy: 0.7630331753554502\n"
     ]
    },
    {
     "name": "stderr",
     "output_type": "stream",
     "text": [
      "  1%|▏         | 850/60000 [00:30<37:59, 25.94it/s]"
     ]
    },
    {
     "name": "stdout",
     "output_type": "stream",
     "text": [
      "Distance: 1.9999998807907104\n",
      "Accuracy: 0.7633136094674556\n",
      "Distance: 2.0\n",
      "Accuracy: 0.7635933806146572\n",
      "Distance: 2.0\n",
      "Accuracy: 0.7638724911452184\n",
      "Distance: 2.0\n",
      "Accuracy: 0.7641509433962265\n",
      "Distance: 2.0\n",
      "Accuracy: 0.7644287396937574\n",
      "Distance: 1.9999998807907104\n",
      "Accuracy: 0.7647058823529411\n"
     ]
    },
    {
     "name": "stderr",
     "output_type": "stream",
     "text": [
      "  1%|▏         | 853/60000 [00:30<38:13, 25.79it/s]"
     ]
    },
    {
     "name": "stdout",
     "output_type": "stream",
     "text": [
      "Distance: 1.9999998807907104\n",
      "Accuracy: 0.7649823736780259\n",
      "Distance: 2.0\n",
      "Accuracy: 0.7652582159624414\n",
      "Distance: 2.0\n",
      "Accuracy: 0.7655334114888629\n",
      "Distance: 1.9999998807907104\n",
      "Accuracy: 0.7646370023419203\n",
      "Distance: 2.0\n",
      "Accuracy: 0.7649122807017544\n"
     ]
    },
    {
     "name": "stderr",
     "output_type": "stream",
     "text": [
      "  1%|▏         | 859/60000 [00:30<37:23, 26.36it/s]"
     ]
    },
    {
     "name": "stdout",
     "output_type": "stream",
     "text": [
      "Distance: 2.0\n",
      "Accuracy: 0.764018691588785\n",
      "Distance: 2.0\n",
      "Accuracy: 0.764294049008168\n",
      "Distance: 1.999999761581421\n",
      "Accuracy: 0.7634032634032634\n",
      "Distance: 2.0\n",
      "Accuracy: 0.7625145518044237\n",
      "Distance: 2.0\n",
      "Accuracy: 0.7627906976744186\n"
     ]
    },
    {
     "name": "stderr",
     "output_type": "stream",
     "text": [
      "  1%|▏         | 861/60000 [00:31<35:32, 27.73it/s]"
     ]
    },
    {
     "name": "stdout",
     "output_type": "stream",
     "text": [
      "Distance: 2.0\n",
      "Accuracy: 0.7630662020905923\n"
     ]
    },
    {
     "name": "stderr",
     "output_type": "stream",
     "text": [
      "\n"
     ]
    },
    {
     "ename": "KeyboardInterrupt",
     "evalue": "",
     "output_type": "error",
     "traceback": [
      "\u001b[1;31m---------------------------------------------------------------------------\u001b[0m",
      "\u001b[1;31mKeyboardInterrupt\u001b[0m                         Traceback (most recent call last)",
      "Cell \u001b[1;32mIn[9], line 34\u001b[0m\n\u001b[0;32m     32\u001b[0m \u001b[38;5;28;01mfor\u001b[39;00m i \u001b[38;5;129;01min\u001b[39;00m \u001b[38;5;28mrange\u001b[39m(\u001b[38;5;241m14\u001b[39m):\n\u001b[0;32m     33\u001b[0m     \u001b[38;5;28;01mfor\u001b[39;00m j \u001b[38;5;129;01min\u001b[39;00m \u001b[38;5;28mrange\u001b[39m(\u001b[38;5;241m14\u001b[39m):\n\u001b[1;32m---> 34\u001b[0m         grid_img[i, j] \u001b[38;5;241m=\u001b[39m \u001b[43mgradient\u001b[49m\u001b[43m[\u001b[49m\u001b[38;5;241;43m0\u001b[39;49m\u001b[43m,\u001b[49m\u001b[43m \u001b[49m\u001b[38;5;241;43m0\u001b[39;49m\u001b[43m,\u001b[49m\u001b[43m \u001b[49m\u001b[43mi\u001b[49m\u001b[38;5;241;43m*\u001b[39;49m\u001b[38;5;241;43m2\u001b[39;49m\u001b[43m:\u001b[49m\u001b[43m(\u001b[49m\u001b[43mi\u001b[49m\u001b[38;5;241;43m+\u001b[39;49m\u001b[38;5;241;43m1\u001b[39;49m\u001b[43m)\u001b[49m\u001b[38;5;241;43m*\u001b[39;49m\u001b[38;5;241;43m2\u001b[39;49m\u001b[43m,\u001b[49m\u001b[43m \u001b[49m\u001b[43mj\u001b[49m\u001b[38;5;241;43m*\u001b[39;49m\u001b[38;5;241;43m2\u001b[39;49m\u001b[43m:\u001b[49m\u001b[43m(\u001b[49m\u001b[43mj\u001b[49m\u001b[38;5;241;43m+\u001b[39;49m\u001b[38;5;241;43m1\u001b[39;49m\u001b[43m)\u001b[49m\u001b[38;5;241;43m*\u001b[39;49m\u001b[38;5;241;43m2\u001b[39;49m\u001b[43m]\u001b[49m\u001b[38;5;241;43m.\u001b[39;49m\u001b[43mmean\u001b[49m\u001b[43m(\u001b[49m\u001b[43m)\u001b[49m\u001b[38;5;241m.\u001b[39mitem()\n\u001b[0;32m     36\u001b[0m \u001b[38;5;66;03m# Tạo mẫu nhiễu\u001b[39;00m\n\u001b[0;32m     37\u001b[0m perturbed_image \u001b[38;5;241m=\u001b[39m fgsm_attack(images, epsilon, gradient)\n",
      "\u001b[1;31mKeyboardInterrupt\u001b[0m: "
     ]
    }
   ],
   "source": [
    "\n",
    "t = 5\n",
    "\n",
    "from tqdm import tqdm\n",
    "\n",
    "total = 0\n",
    "correct = 0\n",
    "\n",
    "for images, labels in tqdm(dataloader):\n",
    "    images, labels = images.to(device), labels.to(device)\n",
    "\n",
    "    img_2_channel = torch.concatenate((images, images), 1)\n",
    "    dqn_predict = dqn(img_2_channel)\n",
    "    predict = dqn_predict.argmax(1)\n",
    "\n",
    "    # dqn_img = dqn_predict.view(14, 14).detach().cpu().numpy()\n",
    "    dqn_img = np.zeros((14, 14))\n",
    "    dqn_img[predict//14, predict%14] = 1\n",
    "    \n",
    "    # Đặt chế độ tính gradient\n",
    "    images.requires_grad = True\n",
    "    \n",
    "    # Dự đoán ban đầu\n",
    "    outputs = model(images)\n",
    "    loss = criterion(outputs, labels)\n",
    "    \n",
    "    # Tính gradient\n",
    "    model.zero_grad()\n",
    "    loss.backward()\n",
    "    gradient = images.grad.data\n",
    "\n",
    "    grid_img = np.zeros((14, 14))\n",
    "    for i in range(14):\n",
    "        for j in range(14):\n",
    "            grid_img[i, j] = gradient[0, 0, i*2:(i+1)*2, j*2:(j+1)*2].mean().item()\n",
    "\n",
    "    # Tạo mẫu nhiễu\n",
    "    perturbed_image = fgsm_attack(images, epsilon, gradient)\n",
    "\n",
    "    distance = torch.norm(perturbed_image - images)\n",
    "    print(f\"Distance: {distance}\")\n",
    "    \n",
    "    # Kiểm tra dự đoán trên mẫu bị tấn công\n",
    "    outputs_perturbed = model(perturbed_image)\n",
    "    _, final_pred = outputs_perturbed.max(1)\n",
    "    \n",
    "    # print(f\"Label gốc: {labels.item()}, Dự đoán sau tấn công: {final_pred.item()}\")\n",
    "\n",
    "    # Hiển thị mẫu gốc, grad và mẫu bị tấn công\n",
    "    # import matplotlib.pyplot as plt\n",
    "    # plt.figure()\n",
    "    # plt.subplot(141)\n",
    "    # plt.imshow(images.squeeze().cpu().detach().numpy(), cmap='gray')\n",
    "    # plt.title('Original Image')\n",
    "    # plt.subplot(142)\n",
    "    # plt.imshow(grid_img, cmap='gray')\n",
    "    # plt.title('Gradient')\n",
    "    # plt.subplot(143)\n",
    "    # plt.imshow(perturbed_image.squeeze().detach().cpu().numpy(), cmap='gray')\n",
    "    # plt.title('Perturbed Image')\n",
    "    # plt.subplot(144)\n",
    "    # plt.imshow(dqn_img, cmap='gray')\n",
    "    # plt.title('DQN Image')\n",
    "\n",
    "\n",
    "    # plt.show()\n",
    "    \n",
    "    # t -= 1\n",
    "    # if t == 0:\n",
    "    #     break\n",
    "    total += 1\n",
    "    if labels.item() != final_pred.item():\n",
    "        correct += 1\n",
    "\n",
    "    print(f\"Accuracy: {correct/total}\")\n",
    "\n",
    "print(f\"Accuracy: {correct/total}\")"
   ]
  },
  {
   "cell_type": "code",
   "execution_count": null,
   "metadata": {},
   "outputs": [],
   "source": []
  }
 ],
 "metadata": {
  "kernelspec": {
   "display_name": "Python 3",
   "language": "python",
   "name": "python3"
  },
  "language_info": {
   "codemirror_mode": {
    "name": "ipython",
    "version": 3
   },
   "file_extension": ".py",
   "mimetype": "text/x-python",
   "name": "python",
   "nbconvert_exporter": "python",
   "pygments_lexer": "ipython3",
   "version": "3.12.5"
  }
 },
 "nbformat": 4,
 "nbformat_minor": 2
}
